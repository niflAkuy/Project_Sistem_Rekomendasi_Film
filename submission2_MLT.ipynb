{
  "cells": [
    {
      "cell_type": "markdown",
      "metadata": {
        "id": "68gnA3GTQ8pg"
      },
      "source": [
        "# **Sistem Rekomendasi Film: Content-Based (TF-IDF) & Neural Collaborative Filtering**\n"
      ]
    },
    {
      "cell_type": "markdown",
      "metadata": {
        "id": "kLxD3Yjm_BPt"
      },
      "source": [
        "## **Data Understanding**"
      ]
    },
    {
      "cell_type": "markdown",
      "metadata": {
        "id": "kfMI1AtTBJSp"
      },
      "source": [
        "Dataset yang digunakan untuk proyek ini yaitu dari grouplens: https://grouplens.org/datasets/movielens/ MovieLens Latest Datasets.\n"
      ]
    },
    {
      "cell_type": "markdown",
      "metadata": {
        "id": "VIhg2YZwREp0"
      },
      "source": [
        "### **Import Library**"
      ]
    },
    {
      "cell_type": "markdown",
      "metadata": {
        "id": "nNVvWQF8-vPV"
      },
      "source": [
        "Kode berikut merupakan kode untuk melakukan import library yang dibutuhkan pada project ini"
      ]
    },
    {
      "cell_type": "code",
      "execution_count": 1,
      "metadata": {
        "id": "8yGiuLFlv8PQ"
      },
      "outputs": [],
      "source": [
        "# Import Library\n",
        "import pandas as pd\n",
        "import numpy as np\n",
        "import matplotlib.pyplot as plt\n",
        "import seaborn as sns\n",
        "import tensorflow as tf\n",
        "\n",
        "from sklearn.feature_extraction.text import TfidfVectorizer\n",
        "from sklearn.metrics.pairwise import cosine_similarity\n",
        "from sklearn.model_selection import train_test_split\n",
        "from tensorflow import keras\n",
        "from tensorflow.keras import layers\n",
        "from tensorflow.keras.callbacks import EarlyStopping, ReduceLROnPlateau\n",
        "\n",
        "# Library untuk preprocessing\n",
        "import nltk\n",
        "import re\n",
        "from nltk.stem import WordNetLemmatizer\n",
        "from nltk.corpus import stopwords\n"
      ]
    },
    {
      "cell_type": "markdown",
      "metadata": {
        "id": "g3Wdxky7RS11"
      },
      "source": [
        "### **Data Loading**"
      ]
    },
    {
      "cell_type": "markdown",
      "metadata": {
        "id": "cTh53ievReWe"
      },
      "source": [
        "Pada dataset terdapat 4 file .csv:\n",
        "- links.csv\n",
        "- movies.csv\n",
        "- ratings.csv\n",
        "- tags.csv\n",
        "\n",
        "dan satu file .txt:\n",
        "- README.txt"
      ]
    },
    {
      "cell_type": "code",
      "execution_count": 3,
      "metadata": {
        "id": "qPYHLigpwB-X"
      },
      "outputs": [],
      "source": [
        "# Load Dataset\n",
        "movies = pd.read_csv(\"/content/MovieLens/movies.csv\")\n",
        "ratings = pd.read_csv(\"/content/MovieLens/ratings.csv\")\n",
        "tags = pd.read_csv(\"/content/MovieLens/tags.csv\")"
      ]
    },
    {
      "cell_type": "markdown",
      "metadata": {
        "id": "tuERsJSj_wEU"
      },
      "source": [
        "## **Univariate Exploratory Data Analysis**"
      ]
    },
    {
      "cell_type": "markdown",
      "metadata": {
        "id": "cOY53RqQXIpy"
      },
      "source": [
        "### Informasi Data"
      ]
    },
    {
      "cell_type": "code",
      "execution_count": 4,
      "metadata": {
        "colab": {
          "base_uri": "https://localhost:8080/"
        },
        "id": "Hosuq9pwWDC1",
        "outputId": "3ef3cb6b-830d-4182-ff68-fb7b5aeeca49"
      },
      "outputs": [
        {
          "name": "stdout",
          "output_type": "stream",
          "text": [
            "----------------------------------------------------------------------\n",
            "Informasi data Movies:\n",
            "<class 'pandas.core.frame.DataFrame'>\n",
            "RangeIndex: 9742 entries, 0 to 9741\n",
            "Data columns (total 3 columns):\n",
            " #   Column   Non-Null Count  Dtype \n",
            "---  ------   --------------  ----- \n",
            " 0   movieId  9742 non-null   int64 \n",
            " 1   title    9742 non-null   object\n",
            " 2   genres   9742 non-null   object\n",
            "dtypes: int64(1), object(2)\n",
            "memory usage: 228.5+ KB\n",
            "None\n",
            "\n",
            "Lima baris awal data Movies:\n",
            "   movieId                               title  \\\n",
            "0        1                    Toy Story (1995)   \n",
            "1        2                      Jumanji (1995)   \n",
            "2        3             Grumpier Old Men (1995)   \n",
            "3        4            Waiting to Exhale (1995)   \n",
            "4        5  Father of the Bride Part II (1995)   \n",
            "\n",
            "                                        genres  \n",
            "0  Adventure|Animation|Children|Comedy|Fantasy  \n",
            "1                   Adventure|Children|Fantasy  \n",
            "2                               Comedy|Romance  \n",
            "3                         Comedy|Drama|Romance  \n",
            "4                                       Comedy  \n",
            "----------------------------------------------------------------------\n",
            "\n",
            "Informasi data Ratings:\n",
            "<class 'pandas.core.frame.DataFrame'>\n",
            "RangeIndex: 100836 entries, 0 to 100835\n",
            "Data columns (total 4 columns):\n",
            " #   Column     Non-Null Count   Dtype  \n",
            "---  ------     --------------   -----  \n",
            " 0   userId     100836 non-null  int64  \n",
            " 1   movieId    100836 non-null  int64  \n",
            " 2   rating     100836 non-null  float64\n",
            " 3   timestamp  100836 non-null  int64  \n",
            "dtypes: float64(1), int64(3)\n",
            "memory usage: 3.1 MB\n",
            "None\n",
            "\n",
            "Lima baris awal data Ratings:\n",
            "   userId  movieId  rating  timestamp\n",
            "0       1        1     4.0  964982703\n",
            "1       1        3     4.0  964981247\n",
            "2       1        6     4.0  964982224\n",
            "3       1       47     5.0  964983815\n",
            "4       1       50     5.0  964982931\n",
            "----------------------------------------------------------------------\n",
            "\n",
            "Informasi data Tags:\n",
            "<class 'pandas.core.frame.DataFrame'>\n",
            "RangeIndex: 3683 entries, 0 to 3682\n",
            "Data columns (total 4 columns):\n",
            " #   Column     Non-Null Count  Dtype \n",
            "---  ------     --------------  ----- \n",
            " 0   userId     3683 non-null   int64 \n",
            " 1   movieId    3683 non-null   int64 \n",
            " 2   tag        3683 non-null   object\n",
            " 3   timestamp  3683 non-null   int64 \n",
            "dtypes: int64(3), object(1)\n",
            "memory usage: 115.2+ KB\n",
            "None\n",
            "\n",
            "Lima baris awal data Tags:\n",
            "   userId  movieId              tag   timestamp\n",
            "0       2    60756            funny  1445714994\n",
            "1       2    60756  Highly quotable  1445714996\n",
            "2       2    60756     will ferrell  1445714992\n",
            "3       2    89774     Boxing story  1445715207\n",
            "4       2    89774              MMA  1445715200\n",
            "----------------------------------------------------------------------\n"
          ]
        }
      ],
      "source": [
        "print(\"----------------------------------------------------------------------\")\n",
        "print(\"Informasi data Movies:\")\n",
        "print(movies.info())\n",
        "print(\"\\nLima baris awal data Movies:\")\n",
        "print(movies.head())\n",
        "print(\"----------------------------------------------------------------------\")\n",
        "\n",
        "print(\"\\nInformasi data Ratings:\")\n",
        "print(ratings.info())\n",
        "print(\"\\nLima baris awal data Ratings:\")\n",
        "print(ratings.head())\n",
        "print(\"----------------------------------------------------------------------\")\n",
        "\n",
        "print(\"\\nInformasi data Tags:\")\n",
        "print(tags.info())\n",
        "print(\"\\nLima baris awal data Tags:\")\n",
        "print(tags.head())\n",
        "print(\"----------------------------------------------------------------------\")\n"
      ]
    },
    {
      "cell_type": "markdown",
      "metadata": {
        "id": "3tRBEPLStCxj"
      },
      "source": [
        "- Pada fitur genres perlu dilakukan penghapusan '|' dan preprocessing pada text seperti stemming, lemmatization, tokenisasi\n",
        "- pada fitur tag juga perlu dilakukan preprocessing"
      ]
    },
    {
      "cell_type": "code",
      "execution_count": 5,
      "metadata": {
        "colab": {
          "base_uri": "https://localhost:8080/"
        },
        "id": "1Aqiy371c8mv",
        "outputId": "eb15b282-4479-40e7-90e3-7137b1d462d4"
      },
      "outputs": [
        {
          "name": "stdout",
          "output_type": "stream",
          "text": [
            "Jumlah film unik (berdasarkan movieId)\n",
            "Jumlah semua film:  9742\n",
            "Jumlah Film dengan rating:  9724\n",
            "Jumlah Film dengan tag:  1572\n",
            "\n",
            "Jumlah film tanpa rating dan tag\n",
            "Jumlah Film tanpa rating:  18\n",
            "Jumlah Film tanpa tag:  8170\n"
          ]
        }
      ],
      "source": [
        "# Menampilkan berapa banyak film yang tidak memiliki rating dan tag,\n",
        "all_movies = set(movies.movieId.unique())\n",
        "rated_movies = set(ratings.movieId.unique())\n",
        "tagged_movies = set(tags.movieId.unique())\n",
        "\n",
        "print(\"Jumlah film unik (berdasarkan movieId)\")\n",
        "print('Jumlah semua film: ', len(all_movies))\n",
        "print('Jumlah Film dengan rating: ', len(rated_movies))\n",
        "print('Jumlah Film dengan tag: ', len(tagged_movies))\n",
        "\n",
        "print(\"\\nJumlah film tanpa rating dan tag\")\n",
        "print('Jumlah Film tanpa rating: ', len(all_movies - rated_movies))\n",
        "print('Jumlah Film tanpa tag: ', len(all_movies - tagged_movies))\n"
      ]
    },
    {
      "cell_type": "markdown",
      "metadata": {
        "id": "FSLZI5r-diP9"
      },
      "source": [
        "- Dari hasil di atas, dapat disimpulkan bahwa tidak semua film mendapatkan rating dan tag\n",
        "-  terdapat 18 film tanpa rating dan 8170 tanpa tag"
      ]
    },
    {
      "cell_type": "markdown",
      "metadata": {
        "id": "0y-yORbHe8CP"
      },
      "source": [
        "### Visualisai Data"
      ]
    },
    {
      "cell_type": "code",
      "execution_count": 6,
      "metadata": {
        "colab": {
          "base_uri": "https://localhost:8080/",
          "height": 0
        },
        "id": "dloqE0Dte_EI",
        "outputId": "8781ce8c-a110-49aa-e5c3-42f8f0b86f84"
      },
      "outputs": [
        {
          "data": {
            "image/png": "[encoded data removed]",
            "text/plain": [
              "<Figure size 1000x500 with 1 Axes>"
            ]
          },
          "metadata": {},
          "output_type": "display_data"
        }
      ],
      "source": [
        "# Visualisai distribusi rating film\n",
        "plt.figure(figsize=(10,5))\n",
        "sns.histplot(ratings['rating'], bins=10, kde=True)\n",
        "plt.title(\"Distribusi Rating Film\")\n",
        "plt.xlabel(\"Rating\")\n",
        "plt.ylabel(\"Frekuensi\")\n",
        "plt.show()"
      ]
    },
    {
      "cell_type": "markdown",
      "metadata": {
        "id": "Cp2vTfrEfCbG"
      },
      "source": [
        "- Dari hasil visualisai tersebut kebanyakan orang memberikan rating film dengan rating 4 dan 3\n"
      ]
    },
    {
      "cell_type": "markdown",
      "metadata": {
        "id": "ah9EHx_3XiYy"
      },
      "source": [
        "## **Data Preprocessing**\n"
      ]
    },
    {
      "cell_type": "markdown",
      "metadata": {
        "id": "ASV8kTneoJ0o"
      },
      "source": [
        "#### Duplikasi Data"
      ]
    },
    {
      "cell_type": "code",
      "execution_count": 7,
      "metadata": {
        "colab": {
          "base_uri": "https://localhost:8080/"
        },
        "id": "MtnsdLtHXthn",
        "outputId": "166df12d-5acf-4bfb-b9a3-74df4bdbd484"
      },
      "outputs": [
        {
          "name": "stdout",
          "output_type": "stream",
          "text": [
            "\n",
            "Jumlah duplikasi pada data movies: 0\n",
            "\n",
            "Jumlah duplikasi pada data ratings: 0\n",
            "\n",
            "Jumlah duplikasi pada data tags: 0\n"
          ]
        }
      ],
      "source": [
        "# Mengecek duplikasi data\n",
        "print(\"\\nJumlah duplikasi pada data movies:\", movies.duplicated().sum())\n",
        "print(\"\\nJumlah duplikasi pada data ratings:\", ratings.duplicated().sum())\n",
        "print(\"\\nJumlah duplikasi pada data tags:\", tags.duplicated().sum())"
      ]
    },
    {
      "cell_type": "markdown",
      "metadata": {
        "id": "P0qPRGhFX0DU"
      },
      "source": [
        "- Tidak terdapat data duplicate"
      ]
    },
    {
      "cell_type": "markdown",
      "metadata": {
        "id": "60sM_pDRoI2u"
      },
      "source": [
        "#### Missing Value"
      ]
    },
    {
      "cell_type": "code",
      "execution_count": 8,
      "metadata": {
        "colab": {
          "base_uri": "https://localhost:8080/"
        },
        "id": "wFmvjp3kX4A-",
        "outputId": "11cb92f7-6776-4626-f8f4-1735d581f52f"
      },
      "outputs": [
        {
          "name": "stdout",
          "output_type": "stream",
          "text": [
            "\n",
            "Nilai null dalam movies:\n",
            "movieId    0\n",
            "title      0\n",
            "genres     0\n",
            "dtype: int64\n",
            "\n",
            "Nilai null dalam ratings:\n",
            "userId       0\n",
            "movieId      0\n",
            "rating       0\n",
            "timestamp    0\n",
            "dtype: int64\n",
            "\n",
            "Nilai null dalam tags:\n",
            "userId       0\n",
            "movieId      0\n",
            "tag          0\n",
            "timestamp    0\n",
            "dtype: int64\n"
          ]
        }
      ],
      "source": [
        "# Mengecek missing value\n",
        "print(\"\\nNilai null dalam movies:\")\n",
        "print(movies.isnull().sum())\n",
        "print(\"\\nNilai null dalam ratings:\")\n",
        "print(ratings.isnull().sum())\n",
        "print(\"\\nNilai null dalam tags:\")\n",
        "print(tags.isnull().sum())"
      ]
    },
    {
      "cell_type": "markdown",
      "metadata": {
        "id": "Zy0jP1A_X9Wv"
      },
      "source": [
        "- Semunya menghasilkan angka 0 berarti tidak terdapat missing value"
      ]
    },
    {
      "cell_type": "markdown",
      "metadata": {
        "id": "yQN281ZXryMs"
      },
      "source": [
        "#### Preprocessing text"
      ]
    },
    {
      "cell_type": "markdown",
      "metadata": {
        "id": "hVCREIE5ttkB"
      },
      "source": [
        "- Membuat fungsi untukelakukan preprocessing seperti stemming, lemmatization, tokenisasi pada text untuk meningkatkan kualitas representasi teks"
      ]
    },
    {
      "cell_type": "code",
      "execution_count": 9,
      "metadata": {
        "colab": {
          "base_uri": "https://localhost:8080/"
        },
        "id": "x6oREZ87r2YR",
        "outputId": "3cd796c1-c779-4258-b7c8-e6d9d125e694"
      },
      "outputs": [
        {
          "name": "stderr",
          "output_type": "stream",
          "text": [
            "[nltk_data] Downloading package wordnet to /root/nltk_data...\n",
            "[nltk_data]   Package wordnet is already up-to-date!\n",
            "[nltk_data] Downloading package omw-1.4 to /root/nltk_data...\n",
            "[nltk_data]   Package omw-1.4 is already up-to-date!\n",
            "[nltk_data] Downloading package stopwords to /root/nltk_data...\n",
            "[nltk_data]   Package stopwords is already up-to-date!\n"
          ]
        }
      ],
      "source": [
        "# Download resource\n",
        "nltk.download('wordnet')\n",
        "nltk.download('omw-1.4')\n",
        "nltk.download('stopwords')\n",
        "\n",
        "lemmatizer = WordNetLemmatizer()\n",
        "stop_words = set(stopwords.words('english'))\n",
        "\n",
        "# fungsi untuk preprocessing text\n",
        "def preprocess_text(text):\n",
        "    # Lowercase, hilangkan karakter selain huruf\n",
        "    text = re.sub(r'[^a-zA-Z]', ' ', text.lower())\n",
        "    # Tokenisasi\n",
        "    tokens = text.split()\n",
        "    # Lemmatization dan hilangkan stopwords\n",
        "    tokens = [lemmatizer.lemmatize(word) for word in tokens if word not in stop_words]\n",
        "    return ' '.join(tokens)"
      ]
    },
    {
      "cell_type": "code",
      "execution_count": 10,
      "metadata": {
        "id": "8JTBAat-r8oC"
      },
      "outputs": [],
      "source": [
        "# Mengubah tanda '|' menjadi spasi pada genres\n",
        "movies['genres'] = movies['genres'].str.replace('|', ' ', regex=False)"
      ]
    },
    {
      "cell_type": "markdown",
      "metadata": {
        "id": "sBZE1WGXuFc8"
      },
      "source": [
        "##### Preprocessing pada fitur genres"
      ]
    },
    {
      "cell_type": "code",
      "execution_count": 11,
      "metadata": {
        "colab": {
          "base_uri": "https://localhost:8080/",
          "height": 206
        },
        "id": "kUmK7ispsexM",
        "outputId": "d0cc496a-979e-45f2-aeae-c473346e155e"
      },
      "outputs": [
        {
          "data": {
            "application/vnd.google.colaboratory.intrinsic+json": {
              "summary": "{\n  \"name\": \"movies\",\n  \"rows\": 9742,\n  \"fields\": [\n    {\n      \"column\": \"movieId\",\n      \"properties\": {\n        \"dtype\": \"number\",\n        \"std\": 52160,\n        \"min\": 1,\n        \"max\": 193609,\n        \"num_unique_values\": 9742,\n        \"samples\": [\n          45635,\n          1373,\n          7325\n        ],\n        \"semantic_type\": \"\",\n        \"description\": \"\"\n      }\n    },\n    {\n      \"column\": \"title\",\n      \"properties\": {\n        \"dtype\": \"string\",\n        \"num_unique_values\": 9737,\n        \"samples\": [\n          \"Teenage Mutant Ninja Turtles (2014)\",\n          \"America's Sweethearts (2001)\",\n          \"Cast Away (2000)\"\n        ],\n        \"semantic_type\": \"\",\n        \"description\": \"\"\n      }\n    },\n    {\n      \"column\": \"genres\",\n      \"properties\": {\n        \"dtype\": \"category\",\n        \"num_unique_values\": 951,\n        \"samples\": [\n          \"crime mystery romance thriller\",\n          \"action adventure comedy western\",\n          \"crime drama musical\"\n        ],\n        \"semantic_type\": \"\",\n        \"description\": \"\"\n      }\n    }\n  ]\n}",
              "type": "dataframe",
              "variable_name": "movies"
            },
            "text/html": [
              "\n",
              "  <div id=\"df-8952386f-d2fa-4010-8936-e8f23dc06a31\" class=\"colab-df-container\">\n",
              "    <div>\n",
              "<style scoped>\n",
              "    .dataframe tbody tr th:only-of-type {\n",
              "        vertical-align: middle;\n",
              "    }\n",
              "\n",
              "    .dataframe tbody tr th {\n",
              "        vertical-align: top;\n",
              "    }\n",
              "\n",
              "    .dataframe thead th {\n",
              "        text-align: right;\n",
              "    }\n",
              "</style>\n",
              "<table border=\"1\" class=\"dataframe\">\n",
              "  <thead>\n",
              "    <tr style=\"text-align: right;\">\n",
              "      <th></th>\n",
              "      <th>movieId</th>\n",
              "      <th>title</th>\n",
              "      <th>genres</th>\n",
              "    </tr>\n",
              "  </thead>\n",
              "  <tbody>\n",
              "    <tr>\n",
              "      <th>0</th>\n",
              "      <td>1</td>\n",
              "      <td>Toy Story (1995)</td>\n",
              "      <td>adventure animation child comedy fantasy</td>\n",
              "    </tr>\n",
              "    <tr>\n",
              "      <th>1</th>\n",
              "      <td>2</td>\n",
              "      <td>Jumanji (1995)</td>\n",
              "      <td>adventure child fantasy</td>\n",
              "    </tr>\n",
              "    <tr>\n",
              "      <th>2</th>\n",
              "      <td>3</td>\n",
              "      <td>Grumpier Old Men (1995)</td>\n",
              "      <td>comedy romance</td>\n",
              "    </tr>\n",
              "    <tr>\n",
              "      <th>3</th>\n",
              "      <td>4</td>\n",
              "      <td>Waiting to Exhale (1995)</td>\n",
              "      <td>comedy drama romance</td>\n",
              "    </tr>\n",
              "    <tr>\n",
              "      <th>4</th>\n",
              "      <td>5</td>\n",
              "      <td>Father of the Bride Part II (1995)</td>\n",
              "      <td>comedy</td>\n",
              "    </tr>\n",
              "  </tbody>\n",
              "</table>\n",
              "</div>\n",
              "    <div class=\"colab-df-buttons\">\n",
              "\n",
              "  <div class=\"colab-df-container\">\n",
              "    <button class=\"colab-df-convert\" onclick=\"convertToInteractive('df-8952386f-d2fa-4010-8936-e8f23dc06a31')\"\n",
              "            title=\"Convert this dataframe to an interactive table.\"\n",
              "            style=\"display:none;\">\n",
              "\n",
              "  <svg xmlns=\"http://www.w3.org/2000/svg\" height=\"24px\" viewBox=\"0 -960 960 960\">\n",
              "    <path d=\"M120-120v-720h720v720H120Zm60-500h600v-160H180v160Zm220 220h160v-160H400v160Zm0 220h160v-160H400v160ZM180-400h160v-160H180v160Zm440 0h160v-160H620v160ZM180-180h160v-160H180v160Zm440 0h160v-160H620v160Z\"/>\n",
              "  </svg>\n",
              "    </button>\n",
              "\n",
              "  <style>\n",
              "    .colab-df-container {\n",
              "      display:flex;\n",
              "      gap: 12px;\n",
              "    }\n",
              "\n",
              "    .colab-df-convert {\n",
              "      background-color: #E8F0FE;\n",
              "      border: none;\n",
              "      border-radius: 50%;\n",
              "      cursor: pointer;\n",
              "      display: none;\n",
              "      fill: #1967D2;\n",
              "      height: 32px;\n",
              "      padding: 0 0 0 0;\n",
              "      width: 32px;\n",
              "    }\n",
              "\n",
              "    .colab-df-convert:hover {\n",
              "      background-color: #E2EBFA;\n",
              "      box-shadow: 0px 1px 2px rgba(60, 64, 67, 0.3), 0px 1px 3px 1px rgba(60, 64, 67, 0.15);\n",
              "      fill: #174EA6;\n",
              "    }\n",
              "\n",
              "    .colab-df-buttons div {\n",
              "      margin-bottom: 4px;\n",
              "    }\n",
              "\n",
              "    [theme=dark] .colab-df-convert {\n",
              "      background-color: #3B4455;\n",
              "      fill: #D2E3FC;\n",
              "    }\n",
              "\n",
              "    [theme=dark] .colab-df-convert:hover {\n",
              "      background-color: #434B5C;\n",
              "      box-shadow: 0px 1px 3px 1px rgba(0, 0, 0, 0.15);\n",
              "      filter: drop-shadow(0px 1px 2px rgba(0, 0, 0, 0.3));\n",
              "      fill: #FFFFFF;\n",
              "    }\n",
              "  </style>\n",
              "\n",
              "    <script>\n",
              "      const buttonEl =\n",
              "        document.querySelector('#df-8952386f-d2fa-4010-8936-e8f23dc06a31 button.colab-df-convert');\n",
              "      buttonEl.style.display =\n",
              "        google.colab.kernel.accessAllowed ? 'block' : 'none';\n",
              "\n",
              "      async function convertToInteractive(key) {\n",
              "        const element = document.querySelector('#df-8952386f-d2fa-4010-8936-e8f23dc06a31');\n",
              "        const dataTable =\n",
              "          await google.colab.kernel.invokeFunction('convertToInteractive',\n",
              "                                                    [key], {});\n",
              "        if (!dataTable) return;\n",
              "\n",
              "        const docLinkHtml = 'Like what you see? Visit the ' +\n",
              "          '<a target=\"_blank\" href=https://colab.research.google.com/notebooks/data_table.ipynb>data table notebook</a>'\n",
              "          + ' to learn more about interactive tables.';\n",
              "        element.innerHTML = '';\n",
              "        dataTable['output_type'] = 'display_data';\n",
              "        await google.colab.output.renderOutput(dataTable, element);\n",
              "        const docLink = document.createElement('div');\n",
              "        docLink.innerHTML = docLinkHtml;\n",
              "        element.appendChild(docLink);\n",
              "      }\n",
              "    </script>\n",
              "  </div>\n",
              "\n",
              "\n",
              "    <div id=\"df-c89442d7-7347-492c-972d-a6bfc2580a63\">\n",
              "      <button class=\"colab-df-quickchart\" onclick=\"quickchart('df-c89442d7-7347-492c-972d-a6bfc2580a63')\"\n",
              "                title=\"Suggest charts\"\n",
              "                style=\"display:none;\">\n",
              "\n",
              "<svg xmlns=\"http://www.w3.org/2000/svg\" height=\"24px\"viewBox=\"0 0 24 24\"\n",
              "     width=\"24px\">\n",
              "    <g>\n",
              "        <path d=\"M19 3H5c-1.1 0-2 .9-2 2v14c0 1.1.9 2 2 2h14c1.1 0 2-.9 2-2V5c0-1.1-.9-2-2-2zM9 17H7v-7h2v7zm4 0h-2V7h2v10zm4 0h-2v-4h2v4z\"/>\n",
              "    </g>\n",
              "</svg>\n",
              "      </button>\n",
              "\n",
              "<style>\n",
              "  .colab-df-quickchart {\n",
              "      --bg-color: #E8F0FE;\n",
              "      --fill-color: #1967D2;\n",
              "      --hover-bg-color: #E2EBFA;\n",
              "      --hover-fill-color: #174EA6;\n",
              "      --disabled-fill-color: #AAA;\n",
              "      --disabled-bg-color: #DDD;\n",
              "  }\n",
              "\n",
              "  [theme=dark] .colab-df-quickchart {\n",
              "      --bg-color: #3B4455;\n",
              "      --fill-color: #D2E3FC;\n",
              "      --hover-bg-color: #434B5C;\n",
              "      --hover-fill-color: #FFFFFF;\n",
              "      --disabled-bg-color: #3B4455;\n",
              "      --disabled-fill-color: #666;\n",
              "  }\n",
              "\n",
              "  .colab-df-quickchart {\n",
              "    background-color: var(--bg-color);\n",
              "    border: none;\n",
              "    border-radius: 50%;\n",
              "    cursor: pointer;\n",
              "    display: none;\n",
              "    fill: var(--fill-color);\n",
              "    height: 32px;\n",
              "    padding: 0;\n",
              "    width: 32px;\n",
              "  }\n",
              "\n",
              "  .colab-df-quickchart:hover {\n",
              "    background-color: var(--hover-bg-color);\n",
              "    box-shadow: 0 1px 2px rgba(60, 64, 67, 0.3), 0 1px 3px 1px rgba(60, 64, 67, 0.15);\n",
              "    fill: var(--button-hover-fill-color);\n",
              "  }\n",
              "\n",
              "  .colab-df-quickchart-complete:disabled,\n",
              "  .colab-df-quickchart-complete:disabled:hover {\n",
              "    background-color: var(--disabled-bg-color);\n",
              "    fill: var(--disabled-fill-color);\n",
              "    box-shadow: none;\n",
              "  }\n",
              "\n",
              "  .colab-df-spinner {\n",
              "    border: 2px solid var(--fill-color);\n",
              "    border-color: transparent;\n",
              "    border-bottom-color: var(--fill-color);\n",
              "    animation:\n",
              "      spin 1s steps(1) infinite;\n",
              "  }\n",
              "\n",
              "  @keyframes spin {\n",
              "    0% {\n",
              "      border-color: transparent;\n",
              "      border-bottom-color: var(--fill-color);\n",
              "      border-left-color: var(--fill-color);\n",
              "    }\n",
              "    20% {\n",
              "      border-color: transparent;\n",
              "      border-left-color: var(--fill-color);\n",
              "      border-top-color: var(--fill-color);\n",
              "    }\n",
              "    30% {\n",
              "      border-color: transparent;\n",
              "      border-left-color: var(--fill-color);\n",
              "      border-top-color: var(--fill-color);\n",
              "      border-right-color: var(--fill-color);\n",
              "    }\n",
              "    40% {\n",
              "      border-color: transparent;\n",
              "      border-right-color: var(--fill-color);\n",
              "      border-top-color: var(--fill-color);\n",
              "    }\n",
              "    60% {\n",
              "      border-color: transparent;\n",
              "      border-right-color: var(--fill-color);\n",
              "    }\n",
              "    80% {\n",
              "      border-color: transparent;\n",
              "      border-right-color: var(--fill-color);\n",
              "      border-bottom-color: var(--fill-color);\n",
              "    }\n",
              "    90% {\n",
              "      border-color: transparent;\n",
              "      border-bottom-color: var(--fill-color);\n",
              "    }\n",
              "  }\n",
              "</style>\n",
              "\n",
              "      <script>\n",
              "        async function quickchart(key) {\n",
              "          const quickchartButtonEl =\n",
              "            document.querySelector('#' + key + ' button');\n",
              "          quickchartButtonEl.disabled = true;  // To prevent multiple clicks.\n",
              "          quickchartButtonEl.classList.add('colab-df-spinner');\n",
              "          try {\n",
              "            const charts = await google.colab.kernel.invokeFunction(\n",
              "                'suggestCharts', [key], {});\n",
              "          } catch (error) {\n",
              "            console.error('Error during call to suggestCharts:', error);\n",
              "          }\n",
              "          quickchartButtonEl.classList.remove('colab-df-spinner');\n",
              "          quickchartButtonEl.classList.add('colab-df-quickchart-complete');\n",
              "        }\n",
              "        (() => {\n",
              "          let quickchartButtonEl =\n",
              "            document.querySelector('#df-c89442d7-7347-492c-972d-a6bfc2580a63 button');\n",
              "          quickchartButtonEl.style.display =\n",
              "            google.colab.kernel.accessAllowed ? 'block' : 'none';\n",
              "        })();\n",
              "      </script>\n",
              "    </div>\n",
              "\n",
              "    </div>\n",
              "  </div>\n"
            ],
            "text/plain": [
              "   movieId                               title  \\\n",
              "0        1                    Toy Story (1995)   \n",
              "1        2                      Jumanji (1995)   \n",
              "2        3             Grumpier Old Men (1995)   \n",
              "3        4            Waiting to Exhale (1995)   \n",
              "4        5  Father of the Bride Part II (1995)   \n",
              "\n",
              "                                     genres  \n",
              "0  adventure animation child comedy fantasy  \n",
              "1                   adventure child fantasy  \n",
              "2                            comedy romance  \n",
              "3                      comedy drama romance  \n",
              "4                                    comedy  "
            ]
          },
          "execution_count": 11,
          "metadata": {},
          "output_type": "execute_result"
        }
      ],
      "source": [
        "# Preprocessing\n",
        "movies['genres'] = movies['genres'].apply(preprocess_text)\n",
        "movies.head()"
      ]
    },
    {
      "cell_type": "markdown",
      "metadata": {
        "id": "al62NCHiuLFX"
      },
      "source": [
        "##### Preprocessing pada fitur tag"
      ]
    },
    {
      "cell_type": "code",
      "execution_count": 12,
      "metadata": {
        "colab": {
          "base_uri": "https://localhost:8080/",
          "height": 206
        },
        "id": "LBLuiwzqsajC",
        "outputId": "69e0e027-9521-4d6a-d662-a54b386e6d40"
      },
      "outputs": [
        {
          "data": {
            "application/vnd.google.colaboratory.intrinsic+json": {
              "summary": "{\n  \"name\": \"tags\",\n  \"rows\": 3683,\n  \"fields\": [\n    {\n      \"column\": \"userId\",\n      \"properties\": {\n        \"dtype\": \"number\",\n        \"std\": 158,\n        \"min\": 2,\n        \"max\": 610,\n        \"num_unique_values\": 58,\n        \"samples\": [\n          2,\n          62,\n          341\n        ],\n        \"semantic_type\": \"\",\n        \"description\": \"\"\n      }\n    },\n    {\n      \"column\": \"movieId\",\n      \"properties\": {\n        \"dtype\": \"number\",\n        \"std\": 43490,\n        \"min\": 1,\n        \"max\": 193565,\n        \"num_unique_values\": 1572,\n        \"samples\": [\n          6296,\n          2939,\n          6708\n        ],\n        \"semantic_type\": \"\",\n        \"description\": \"\"\n      }\n    },\n    {\n      \"column\": \"tag\",\n      \"properties\": {\n        \"dtype\": \"category\",\n        \"num_unique_values\": 1435,\n        \"samples\": [\n          \"james fennimore cooper\",\n          \"subway\",\n          \"football\"\n        ],\n        \"semantic_type\": \"\",\n        \"description\": \"\"\n      }\n    },\n    {\n      \"column\": \"timestamp\",\n      \"properties\": {\n        \"dtype\": \"number\",\n        \"std\": 172102450,\n        \"min\": 1137179352,\n        \"max\": 1537098603,\n        \"num_unique_values\": 3411,\n        \"samples\": [\n          1498456527,\n          1137192017,\n          1525554215\n        ],\n        \"semantic_type\": \"\",\n        \"description\": \"\"\n      }\n    }\n  ]\n}",
              "type": "dataframe",
              "variable_name": "tags"
            },
            "text/html": [
              "\n",
              "  <div id=\"df-721232d7-8b1a-4a7b-8d1a-4dda1adc4e4f\" class=\"colab-df-container\">\n",
              "    <div>\n",
              "<style scoped>\n",
              "    .dataframe tbody tr th:only-of-type {\n",
              "        vertical-align: middle;\n",
              "    }\n",
              "\n",
              "    .dataframe tbody tr th {\n",
              "        vertical-align: top;\n",
              "    }\n",
              "\n",
              "    .dataframe thead th {\n",
              "        text-align: right;\n",
              "    }\n",
              "</style>\n",
              "<table border=\"1\" class=\"dataframe\">\n",
              "  <thead>\n",
              "    <tr style=\"text-align: right;\">\n",
              "      <th></th>\n",
              "      <th>userId</th>\n",
              "      <th>movieId</th>\n",
              "      <th>tag</th>\n",
              "      <th>timestamp</th>\n",
              "    </tr>\n",
              "  </thead>\n",
              "  <tbody>\n",
              "    <tr>\n",
              "      <th>0</th>\n",
              "      <td>2</td>\n",
              "      <td>60756</td>\n",
              "      <td>funny</td>\n",
              "      <td>1445714994</td>\n",
              "    </tr>\n",
              "    <tr>\n",
              "      <th>1</th>\n",
              "      <td>2</td>\n",
              "      <td>60756</td>\n",
              "      <td>highly quotable</td>\n",
              "      <td>1445714996</td>\n",
              "    </tr>\n",
              "    <tr>\n",
              "      <th>2</th>\n",
              "      <td>2</td>\n",
              "      <td>60756</td>\n",
              "      <td>ferrell</td>\n",
              "      <td>1445714992</td>\n",
              "    </tr>\n",
              "    <tr>\n",
              "      <th>3</th>\n",
              "      <td>2</td>\n",
              "      <td>89774</td>\n",
              "      <td>boxing story</td>\n",
              "      <td>1445715207</td>\n",
              "    </tr>\n",
              "    <tr>\n",
              "      <th>4</th>\n",
              "      <td>2</td>\n",
              "      <td>89774</td>\n",
              "      <td>mma</td>\n",
              "      <td>1445715200</td>\n",
              "    </tr>\n",
              "  </tbody>\n",
              "</table>\n",
              "</div>\n",
              "    <div class=\"colab-df-buttons\">\n",
              "\n",
              "  <div class=\"colab-df-container\">\n",
              "    <button class=\"colab-df-convert\" onclick=\"convertToInteractive('df-721232d7-8b1a-4a7b-8d1a-4dda1adc4e4f')\"\n",
              "            title=\"Convert this dataframe to an interactive table.\"\n",
              "            style=\"display:none;\">\n",
              "\n",
              "  <svg xmlns=\"http://www.w3.org/2000/svg\" height=\"24px\" viewBox=\"0 -960 960 960\">\n",
              "    <path d=\"M120-120v-720h720v720H120Zm60-500h600v-160H180v160Zm220 220h160v-160H400v160Zm0 220h160v-160H400v160ZM180-400h160v-160H180v160Zm440 0h160v-160H620v160ZM180-180h160v-160H180v160Zm440 0h160v-160H620v160Z\"/>\n",
              "  </svg>\n",
              "    </button>\n",
              "\n",
              "  <style>\n",
              "    .colab-df-container {\n",
              "      display:flex;\n",
              "      gap: 12px;\n",
              "    }\n",
              "\n",
              "    .colab-df-convert {\n",
              "      background-color: #E8F0FE;\n",
              "      border: none;\n",
              "      border-radius: 50%;\n",
              "      cursor: pointer;\n",
              "      display: none;\n",
              "      fill: #1967D2;\n",
              "      height: 32px;\n",
              "      padding: 0 0 0 0;\n",
              "      width: 32px;\n",
              "    }\n",
              "\n",
              "    .colab-df-convert:hover {\n",
              "      background-color: #E2EBFA;\n",
              "      box-shadow: 0px 1px 2px rgba(60, 64, 67, 0.3), 0px 1px 3px 1px rgba(60, 64, 67, 0.15);\n",
              "      fill: #174EA6;\n",
              "    }\n",
              "\n",
              "    .colab-df-buttons div {\n",
              "      margin-bottom: 4px;\n",
              "    }\n",
              "\n",
              "    [theme=dark] .colab-df-convert {\n",
              "      background-color: #3B4455;\n",
              "      fill: #D2E3FC;\n",
              "    }\n",
              "\n",
              "    [theme=dark] .colab-df-convert:hover {\n",
              "      background-color: #434B5C;\n",
              "      box-shadow: 0px 1px 3px 1px rgba(0, 0, 0, 0.15);\n",
              "      filter: drop-shadow(0px 1px 2px rgba(0, 0, 0, 0.3));\n",
              "      fill: #FFFFFF;\n",
              "    }\n",
              "  </style>\n",
              "\n",
              "    <script>\n",
              "      const buttonEl =\n",
              "        document.querySelector('#df-721232d7-8b1a-4a7b-8d1a-4dda1adc4e4f button.colab-df-convert');\n",
              "      buttonEl.style.display =\n",
              "        google.colab.kernel.accessAllowed ? 'block' : 'none';\n",
              "\n",
              "      async function convertToInteractive(key) {\n",
              "        const element = document.querySelector('#df-721232d7-8b1a-4a7b-8d1a-4dda1adc4e4f');\n",
              "        const dataTable =\n",
              "          await google.colab.kernel.invokeFunction('convertToInteractive',\n",
              "                                                    [key], {});\n",
              "        if (!dataTable) return;\n",
              "\n",
              "        const docLinkHtml = 'Like what you see? Visit the ' +\n",
              "          '<a target=\"_blank\" href=https://colab.research.google.com/notebooks/data_table.ipynb>data table notebook</a>'\n",
              "          + ' to learn more about interactive tables.';\n",
              "        element.innerHTML = '';\n",
              "        dataTable['output_type'] = 'display_data';\n",
              "        await google.colab.output.renderOutput(dataTable, element);\n",
              "        const docLink = document.createElement('div');\n",
              "        docLink.innerHTML = docLinkHtml;\n",
              "        element.appendChild(docLink);\n",
              "      }\n",
              "    </script>\n",
              "  </div>\n",
              "\n",
              "\n",
              "    <div id=\"df-1ab473c2-fad2-4f12-badc-0564d929e733\">\n",
              "      <button class=\"colab-df-quickchart\" onclick=\"quickchart('df-1ab473c2-fad2-4f12-badc-0564d929e733')\"\n",
              "                title=\"Suggest charts\"\n",
              "                style=\"display:none;\">\n",
              "\n",
              "<svg xmlns=\"http://www.w3.org/2000/svg\" height=\"24px\"viewBox=\"0 0 24 24\"\n",
              "     width=\"24px\">\n",
              "    <g>\n",
              "        <path d=\"M19 3H5c-1.1 0-2 .9-2 2v14c0 1.1.9 2 2 2h14c1.1 0 2-.9 2-2V5c0-1.1-.9-2-2-2zM9 17H7v-7h2v7zm4 0h-2V7h2v10zm4 0h-2v-4h2v4z\"/>\n",
              "    </g>\n",
              "</svg>\n",
              "      </button>\n",
              "\n",
              "<style>\n",
              "  .colab-df-quickchart {\n",
              "      --bg-color: #E8F0FE;\n",
              "      --fill-color: #1967D2;\n",
              "      --hover-bg-color: #E2EBFA;\n",
              "      --hover-fill-color: #174EA6;\n",
              "      --disabled-fill-color: #AAA;\n",
              "      --disabled-bg-color: #DDD;\n",
              "  }\n",
              "\n",
              "  [theme=dark] .colab-df-quickchart {\n",
              "      --bg-color: #3B4455;\n",
              "      --fill-color: #D2E3FC;\n",
              "      --hover-bg-color: #434B5C;\n",
              "      --hover-fill-color: #FFFFFF;\n",
              "      --disabled-bg-color: #3B4455;\n",
              "      --disabled-fill-color: #666;\n",
              "  }\n",
              "\n",
              "  .colab-df-quickchart {\n",
              "    background-color: var(--bg-color);\n",
              "    border: none;\n",
              "    border-radius: 50%;\n",
              "    cursor: pointer;\n",
              "    display: none;\n",
              "    fill: var(--fill-color);\n",
              "    height: 32px;\n",
              "    padding: 0;\n",
              "    width: 32px;\n",
              "  }\n",
              "\n",
              "  .colab-df-quickchart:hover {\n",
              "    background-color: var(--hover-bg-color);\n",
              "    box-shadow: 0 1px 2px rgba(60, 64, 67, 0.3), 0 1px 3px 1px rgba(60, 64, 67, 0.15);\n",
              "    fill: var(--button-hover-fill-color);\n",
              "  }\n",
              "\n",
              "  .colab-df-quickchart-complete:disabled,\n",
              "  .colab-df-quickchart-complete:disabled:hover {\n",
              "    background-color: var(--disabled-bg-color);\n",
              "    fill: var(--disabled-fill-color);\n",
              "    box-shadow: none;\n",
              "  }\n",
              "\n",
              "  .colab-df-spinner {\n",
              "    border: 2px solid var(--fill-color);\n",
              "    border-color: transparent;\n",
              "    border-bottom-color: var(--fill-color);\n",
              "    animation:\n",
              "      spin 1s steps(1) infinite;\n",
              "  }\n",
              "\n",
              "  @keyframes spin {\n",
              "    0% {\n",
              "      border-color: transparent;\n",
              "      border-bottom-color: var(--fill-color);\n",
              "      border-left-color: var(--fill-color);\n",
              "    }\n",
              "    20% {\n",
              "      border-color: transparent;\n",
              "      border-left-color: var(--fill-color);\n",
              "      border-top-color: var(--fill-color);\n",
              "    }\n",
              "    30% {\n",
              "      border-color: transparent;\n",
              "      border-left-color: var(--fill-color);\n",
              "      border-top-color: var(--fill-color);\n",
              "      border-right-color: var(--fill-color);\n",
              "    }\n",
              "    40% {\n",
              "      border-color: transparent;\n",
              "      border-right-color: var(--fill-color);\n",
              "      border-top-color: var(--fill-color);\n",
              "    }\n",
              "    60% {\n",
              "      border-color: transparent;\n",
              "      border-right-color: var(--fill-color);\n",
              "    }\n",
              "    80% {\n",
              "      border-color: transparent;\n",
              "      border-right-color: var(--fill-color);\n",
              "      border-bottom-color: var(--fill-color);\n",
              "    }\n",
              "    90% {\n",
              "      border-color: transparent;\n",
              "      border-bottom-color: var(--fill-color);\n",
              "    }\n",
              "  }\n",
              "</style>\n",
              "\n",
              "      <script>\n",
              "        async function quickchart(key) {\n",
              "          const quickchartButtonEl =\n",
              "            document.querySelector('#' + key + ' button');\n",
              "          quickchartButtonEl.disabled = true;  // To prevent multiple clicks.\n",
              "          quickchartButtonEl.classList.add('colab-df-spinner');\n",
              "          try {\n",
              "            const charts = await google.colab.kernel.invokeFunction(\n",
              "                'suggestCharts', [key], {});\n",
              "          } catch (error) {\n",
              "            console.error('Error during call to suggestCharts:', error);\n",
              "          }\n",
              "          quickchartButtonEl.classList.remove('colab-df-spinner');\n",
              "          quickchartButtonEl.classList.add('colab-df-quickchart-complete');\n",
              "        }\n",
              "        (() => {\n",
              "          let quickchartButtonEl =\n",
              "            document.querySelector('#df-1ab473c2-fad2-4f12-badc-0564d929e733 button');\n",
              "          quickchartButtonEl.style.display =\n",
              "            google.colab.kernel.accessAllowed ? 'block' : 'none';\n",
              "        })();\n",
              "      </script>\n",
              "    </div>\n",
              "\n",
              "    </div>\n",
              "  </div>\n"
            ],
            "text/plain": [
              "   userId  movieId              tag   timestamp\n",
              "0       2    60756            funny  1445714994\n",
              "1       2    60756  highly quotable  1445714996\n",
              "2       2    60756          ferrell  1445714992\n",
              "3       2    89774     boxing story  1445715207\n",
              "4       2    89774              mma  1445715200"
            ]
          },
          "execution_count": 12,
          "metadata": {},
          "output_type": "execute_result"
        }
      ],
      "source": [
        "tags['tag'] = tags['tag'].fillna('').apply(preprocess_text)\n",
        "tags.head()"
      ]
    },
    {
      "cell_type": "markdown",
      "metadata": {
        "id": "YIXhbVafYH7i"
      },
      "source": [
        "## **Data Preparation**"
      ]
    },
    {
      "cell_type": "markdown",
      "metadata": {
        "id": "i-BMQ5NtxMGs"
      },
      "source": [
        "### Menggabungkan fitur tag ke data movies"
      ]
    },
    {
      "cell_type": "code",
      "execution_count": 13,
      "metadata": {
        "colab": {
          "base_uri": "https://localhost:8080/",
          "height": 0
        },
        "id": "K7VF-XeMX9Ae",
        "outputId": "0926588b-e082-4e75-d30e-9fcd331dbb9e"
      },
      "outputs": [
        {
          "name": "stdout",
          "output_type": "stream",
          "text": [
            "\n",
            "Movies after adding tags:\n"
          ]
        },
        {
          "data": {
            "application/vnd.google.colaboratory.intrinsic+json": {
              "summary": "{\n  \"name\": \"movies\",\n  \"rows\": 9742,\n  \"fields\": [\n    {\n      \"column\": \"movieId\",\n      \"properties\": {\n        \"dtype\": \"number\",\n        \"std\": 52160,\n        \"min\": 1,\n        \"max\": 193609,\n        \"num_unique_values\": 9742,\n        \"samples\": [\n          45635,\n          1373,\n          7325\n        ],\n        \"semantic_type\": \"\",\n        \"description\": \"\"\n      }\n    },\n    {\n      \"column\": \"title\",\n      \"properties\": {\n        \"dtype\": \"string\",\n        \"num_unique_values\": 9737,\n        \"samples\": [\n          \"Teenage Mutant Ninja Turtles (2014)\",\n          \"America's Sweethearts (2001)\",\n          \"Cast Away (2000)\"\n        ],\n        \"semantic_type\": \"\",\n        \"description\": \"\"\n      }\n    },\n    {\n      \"column\": \"genres\",\n      \"properties\": {\n        \"dtype\": \"category\",\n        \"num_unique_values\": 951,\n        \"samples\": [\n          \"crime mystery romance thriller\",\n          \"action adventure comedy western\",\n          \"crime drama musical\"\n        ],\n        \"semantic_type\": \"\",\n        \"description\": \"\"\n      }\n    },\n    {\n      \"column\": \"tag\",\n      \"properties\": {\n        \"dtype\": \"category\",\n        \"num_unique_values\": 1008,\n        \"samples\": [\n          \"adorable black comedy eccentric introspection mental illness quirky\",\n          \"religion classic\",\n          \"notable nudity\"\n        ],\n        \"semantic_type\": \"\",\n        \"description\": \"\"\n      }\n    }\n  ]\n}",
              "type": "dataframe",
              "variable_name": "movies"
            },
            "text/html": [
              "\n",
              "  <div id=\"df-abf17a4b-66ca-4bd1-b7c2-fa00689f3967\" class=\"colab-df-container\">\n",
              "    <div>\n",
              "<style scoped>\n",
              "    .dataframe tbody tr th:only-of-type {\n",
              "        vertical-align: middle;\n",
              "    }\n",
              "\n",
              "    .dataframe tbody tr th {\n",
              "        vertical-align: top;\n",
              "    }\n",
              "\n",
              "    .dataframe thead th {\n",
              "        text-align: right;\n",
              "    }\n",
              "</style>\n",
              "<table border=\"1\" class=\"dataframe\">\n",
              "  <thead>\n",
              "    <tr style=\"text-align: right;\">\n",
              "      <th></th>\n",
              "      <th>movieId</th>\n",
              "      <th>title</th>\n",
              "      <th>genres</th>\n",
              "      <th>tag</th>\n",
              "    </tr>\n",
              "  </thead>\n",
              "  <tbody>\n",
              "    <tr>\n",
              "      <th>0</th>\n",
              "      <td>1</td>\n",
              "      <td>Toy Story (1995)</td>\n",
              "      <td>adventure animation child comedy fantasy</td>\n",
              "      <td>pixar pixar fun</td>\n",
              "    </tr>\n",
              "    <tr>\n",
              "      <th>1</th>\n",
              "      <td>2</td>\n",
              "      <td>Jumanji (1995)</td>\n",
              "      <td>adventure child fantasy</td>\n",
              "      <td>fantasy magic board game robin williams game</td>\n",
              "    </tr>\n",
              "    <tr>\n",
              "      <th>2</th>\n",
              "      <td>3</td>\n",
              "      <td>Grumpier Old Men (1995)</td>\n",
              "      <td>comedy romance</td>\n",
              "      <td>moldy old</td>\n",
              "    </tr>\n",
              "    <tr>\n",
              "      <th>3</th>\n",
              "      <td>4</td>\n",
              "      <td>Waiting to Exhale (1995)</td>\n",
              "      <td>comedy drama romance</td>\n",
              "      <td></td>\n",
              "    </tr>\n",
              "    <tr>\n",
              "      <th>4</th>\n",
              "      <td>5</td>\n",
              "      <td>Father of the Bride Part II (1995)</td>\n",
              "      <td>comedy</td>\n",
              "      <td>pregnancy remake</td>\n",
              "    </tr>\n",
              "  </tbody>\n",
              "</table>\n",
              "</div>\n",
              "    <div class=\"colab-df-buttons\">\n",
              "\n",
              "  <div class=\"colab-df-container\">\n",
              "    <button class=\"colab-df-convert\" onclick=\"convertToInteractive('df-abf17a4b-66ca-4bd1-b7c2-fa00689f3967')\"\n",
              "            title=\"Convert this dataframe to an interactive table.\"\n",
              "            style=\"display:none;\">\n",
              "\n",
              "  <svg xmlns=\"http://www.w3.org/2000/svg\" height=\"24px\" viewBox=\"0 -960 960 960\">\n",
              "    <path d=\"M120-120v-720h720v720H120Zm60-500h600v-160H180v160Zm220 220h160v-160H400v160Zm0 220h160v-160H400v160ZM180-400h160v-160H180v160Zm440 0h160v-160H620v160ZM180-180h160v-160H180v160Zm440 0h160v-160H620v160Z\"/>\n",
              "  </svg>\n",
              "    </button>\n",
              "\n",
              "  <style>\n",
              "    .colab-df-container {\n",
              "      display:flex;\n",
              "      gap: 12px;\n",
              "    }\n",
              "\n",
              "    .colab-df-convert {\n",
              "      background-color: #E8F0FE;\n",
              "      border: none;\n",
              "      border-radius: 50%;\n",
              "      cursor: pointer;\n",
              "      display: none;\n",
              "      fill: #1967D2;\n",
              "      height: 32px;\n",
              "      padding: 0 0 0 0;\n",
              "      width: 32px;\n",
              "    }\n",
              "\n",
              "    .colab-df-convert:hover {\n",
              "      background-color: #E2EBFA;\n",
              "      box-shadow: 0px 1px 2px rgba(60, 64, 67, 0.3), 0px 1px 3px 1px rgba(60, 64, 67, 0.15);\n",
              "      fill: #174EA6;\n",
              "    }\n",
              "\n",
              "    .colab-df-buttons div {\n",
              "      margin-bottom: 4px;\n",
              "    }\n",
              "\n",
              "    [theme=dark] .colab-df-convert {\n",
              "      background-color: #3B4455;\n",
              "      fill: #D2E3FC;\n",
              "    }\n",
              "\n",
              "    [theme=dark] .colab-df-convert:hover {\n",
              "      background-color: #434B5C;\n",
              "      box-shadow: 0px 1px 3px 1px rgba(0, 0, 0, 0.15);\n",
              "      filter: drop-shadow(0px 1px 2px rgba(0, 0, 0, 0.3));\n",
              "      fill: #FFFFFF;\n",
              "    }\n",
              "  </style>\n",
              "\n",
              "    <script>\n",
              "      const buttonEl =\n",
              "        document.querySelector('#df-abf17a4b-66ca-4bd1-b7c2-fa00689f3967 button.colab-df-convert');\n",
              "      buttonEl.style.display =\n",
              "        google.colab.kernel.accessAllowed ? 'block' : 'none';\n",
              "\n",
              "      async function convertToInteractive(key) {\n",
              "        const element = document.querySelector('#df-abf17a4b-66ca-4bd1-b7c2-fa00689f3967');\n",
              "        const dataTable =\n",
              "          await google.colab.kernel.invokeFunction('convertToInteractive',\n",
              "                                                    [key], {});\n",
              "        if (!dataTable) return;\n",
              "\n",
              "        const docLinkHtml = 'Like what you see? Visit the ' +\n",
              "          '<a target=\"_blank\" href=https://colab.research.google.com/notebooks/data_table.ipynb>data table notebook</a>'\n",
              "          + ' to learn more about interactive tables.';\n",
              "        element.innerHTML = '';\n",
              "        dataTable['output_type'] = 'display_data';\n",
              "        await google.colab.output.renderOutput(dataTable, element);\n",
              "        const docLink = document.createElement('div');\n",
              "        docLink.innerHTML = docLinkHtml;\n",
              "        element.appendChild(docLink);\n",
              "      }\n",
              "    </script>\n",
              "  </div>\n",
              "\n",
              "\n",
              "    <div id=\"df-d871a03f-1deb-42ad-86ee-e92f28dd20a4\">\n",
              "      <button class=\"colab-df-quickchart\" onclick=\"quickchart('df-d871a03f-1deb-42ad-86ee-e92f28dd20a4')\"\n",
              "                title=\"Suggest charts\"\n",
              "                style=\"display:none;\">\n",
              "\n",
              "<svg xmlns=\"http://www.w3.org/2000/svg\" height=\"24px\"viewBox=\"0 0 24 24\"\n",
              "     width=\"24px\">\n",
              "    <g>\n",
              "        <path d=\"M19 3H5c-1.1 0-2 .9-2 2v14c0 1.1.9 2 2 2h14c1.1 0 2-.9 2-2V5c0-1.1-.9-2-2-2zM9 17H7v-7h2v7zm4 0h-2V7h2v10zm4 0h-2v-4h2v4z\"/>\n",
              "    </g>\n",
              "</svg>\n",
              "      </button>\n",
              "\n",
              "<style>\n",
              "  .colab-df-quickchart {\n",
              "      --bg-color: #E8F0FE;\n",
              "      --fill-color: #1967D2;\n",
              "      --hover-bg-color: #E2EBFA;\n",
              "      --hover-fill-color: #174EA6;\n",
              "      --disabled-fill-color: #AAA;\n",
              "      --disabled-bg-color: #DDD;\n",
              "  }\n",
              "\n",
              "  [theme=dark] .colab-df-quickchart {\n",
              "      --bg-color: #3B4455;\n",
              "      --fill-color: #D2E3FC;\n",
              "      --hover-bg-color: #434B5C;\n",
              "      --hover-fill-color: #FFFFFF;\n",
              "      --disabled-bg-color: #3B4455;\n",
              "      --disabled-fill-color: #666;\n",
              "  }\n",
              "\n",
              "  .colab-df-quickchart {\n",
              "    background-color: var(--bg-color);\n",
              "    border: none;\n",
              "    border-radius: 50%;\n",
              "    cursor: pointer;\n",
              "    display: none;\n",
              "    fill: var(--fill-color);\n",
              "    height: 32px;\n",
              "    padding: 0;\n",
              "    width: 32px;\n",
              "  }\n",
              "\n",
              "  .colab-df-quickchart:hover {\n",
              "    background-color: var(--hover-bg-color);\n",
              "    box-shadow: 0 1px 2px rgba(60, 64, 67, 0.3), 0 1px 3px 1px rgba(60, 64, 67, 0.15);\n",
              "    fill: var(--button-hover-fill-color);\n",
              "  }\n",
              "\n",
              "  .colab-df-quickchart-complete:disabled,\n",
              "  .colab-df-quickchart-complete:disabled:hover {\n",
              "    background-color: var(--disabled-bg-color);\n",
              "    fill: var(--disabled-fill-color);\n",
              "    box-shadow: none;\n",
              "  }\n",
              "\n",
              "  .colab-df-spinner {\n",
              "    border: 2px solid var(--fill-color);\n",
              "    border-color: transparent;\n",
              "    border-bottom-color: var(--fill-color);\n",
              "    animation:\n",
              "      spin 1s steps(1) infinite;\n",
              "  }\n",
              "\n",
              "  @keyframes spin {\n",
              "    0% {\n",
              "      border-color: transparent;\n",
              "      border-bottom-color: var(--fill-color);\n",
              "      border-left-color: var(--fill-color);\n",
              "    }\n",
              "    20% {\n",
              "      border-color: transparent;\n",
              "      border-left-color: var(--fill-color);\n",
              "      border-top-color: var(--fill-color);\n",
              "    }\n",
              "    30% {\n",
              "      border-color: transparent;\n",
              "      border-left-color: var(--fill-color);\n",
              "      border-top-color: var(--fill-color);\n",
              "      border-right-color: var(--fill-color);\n",
              "    }\n",
              "    40% {\n",
              "      border-color: transparent;\n",
              "      border-right-color: var(--fill-color);\n",
              "      border-top-color: var(--fill-color);\n",
              "    }\n",
              "    60% {\n",
              "      border-color: transparent;\n",
              "      border-right-color: var(--fill-color);\n",
              "    }\n",
              "    80% {\n",
              "      border-color: transparent;\n",
              "      border-right-color: var(--fill-color);\n",
              "      border-bottom-color: var(--fill-color);\n",
              "    }\n",
              "    90% {\n",
              "      border-color: transparent;\n",
              "      border-bottom-color: var(--fill-color);\n",
              "    }\n",
              "  }\n",
              "</style>\n",
              "\n",
              "      <script>\n",
              "        async function quickchart(key) {\n",
              "          const quickchartButtonEl =\n",
              "            document.querySelector('#' + key + ' button');\n",
              "          quickchartButtonEl.disabled = true;  // To prevent multiple clicks.\n",
              "          quickchartButtonEl.classList.add('colab-df-spinner');\n",
              "          try {\n",
              "            const charts = await google.colab.kernel.invokeFunction(\n",
              "                'suggestCharts', [key], {});\n",
              "          } catch (error) {\n",
              "            console.error('Error during call to suggestCharts:', error);\n",
              "          }\n",
              "          quickchartButtonEl.classList.remove('colab-df-spinner');\n",
              "          quickchartButtonEl.classList.add('colab-df-quickchart-complete');\n",
              "        }\n",
              "        (() => {\n",
              "          let quickchartButtonEl =\n",
              "            document.querySelector('#df-d871a03f-1deb-42ad-86ee-e92f28dd20a4 button');\n",
              "          quickchartButtonEl.style.display =\n",
              "            google.colab.kernel.accessAllowed ? 'block' : 'none';\n",
              "        })();\n",
              "      </script>\n",
              "    </div>\n",
              "\n",
              "    </div>\n",
              "  </div>\n"
            ],
            "text/plain": [
              "   movieId                               title  \\\n",
              "0        1                    Toy Story (1995)   \n",
              "1        2                      Jumanji (1995)   \n",
              "2        3             Grumpier Old Men (1995)   \n",
              "3        4            Waiting to Exhale (1995)   \n",
              "4        5  Father of the Bride Part II (1995)   \n",
              "\n",
              "                                     genres  \\\n",
              "0  adventure animation child comedy fantasy   \n",
              "1                   adventure child fantasy   \n",
              "2                            comedy romance   \n",
              "3                      comedy drama romance   \n",
              "4                                    comedy   \n",
              "\n",
              "                                            tag  \n",
              "0                               pixar pixar fun  \n",
              "1  fantasy magic board game robin williams game  \n",
              "2                                     moldy old  \n",
              "3                                                \n",
              "4                              pregnancy remake  "
            ]
          },
          "execution_count": 13,
          "metadata": {},
          "output_type": "execute_result"
        }
      ],
      "source": [
        "# Menggabungkan tags berdasarkan movieId\n",
        "combined_tags = tags.groupby('movieId')['tag'].apply(lambda x: ' '.join(x)).reset_index()\n",
        "movies = pd.merge(movies, combined_tags, on='movieId', how='left')\n",
        "movies['tag'] = movies['tag'].fillna('')\n",
        "\n",
        "print(\"\\nMovies after adding tags:\")\n",
        "movies.head()"
      ]
    },
    {
      "cell_type": "markdown",
      "metadata": {
        "id": "Tkr25RBnfrAj"
      },
      "source": [
        "- Mengecek kembali duplikasi data setelah dilakukan penggabungan tag ke dalam movies"
      ]
    },
    {
      "cell_type": "code",
      "execution_count": 14,
      "metadata": {
        "colab": {
          "base_uri": "https://localhost:8080/"
        },
        "id": "1hHFsFOHv6Hk",
        "outputId": "d3e2282f-b195-4385-e2bc-b69a402851b0"
      },
      "outputs": [
        {
          "name": "stdout",
          "output_type": "stream",
          "text": [
            "Data Duplicat: 0\n"
          ]
        }
      ],
      "source": [
        "duplicated  = movies.duplicated().sum()\n",
        "print(f\"Data Duplicat: {duplicated}\")"
      ]
    },
    {
      "cell_type": "markdown",
      "metadata": {
        "id": "M2xPnhqrohvY"
      },
      "source": [
        "### Menggabungkan genre + tag menjadi satu fitur teks"
      ]
    },
    {
      "cell_type": "code",
      "execution_count": 15,
      "metadata": {
        "id": "4BhfYo0gwOXZ"
      },
      "outputs": [],
      "source": [
        "# Fungsi untuk menghapus duplikasi kata pada hasil combined\n",
        "def combine_unique_words(col1, col2):\n",
        "    words = (col1 + ' ' + col2).split()\n",
        "    # Menghapus duplikat dengan set, lalu mengurutkan sesuai urutan kemunculan\n",
        "    unique_words = list(dict.fromkeys(words))\n",
        "    return ' '.join(unique_words)"
      ]
    },
    {
      "cell_type": "code",
      "execution_count": 16,
      "metadata": {
        "colab": {
          "base_uri": "https://localhost:8080/",
          "height": 0
        },
        "id": "qqE8yC0XojAu",
        "outputId": "9d6ceab2-03fd-48df-9f23-0d007d8d9d54"
      },
      "outputs": [
        {
          "data": {
            "application/vnd.google.colaboratory.intrinsic+json": {
              "summary": "{\n  \"name\": \"movies\",\n  \"rows\": 9742,\n  \"fields\": [\n    {\n      \"column\": \"movieId\",\n      \"properties\": {\n        \"dtype\": \"number\",\n        \"std\": 52160,\n        \"min\": 1,\n        \"max\": 193609,\n        \"num_unique_values\": 9742,\n        \"samples\": [\n          45635,\n          1373,\n          7325\n        ],\n        \"semantic_type\": \"\",\n        \"description\": \"\"\n      }\n    },\n    {\n      \"column\": \"title\",\n      \"properties\": {\n        \"dtype\": \"string\",\n        \"num_unique_values\": 9737,\n        \"samples\": [\n          \"Teenage Mutant Ninja Turtles (2014)\",\n          \"America's Sweethearts (2001)\",\n          \"Cast Away (2000)\"\n        ],\n        \"semantic_type\": \"\",\n        \"description\": \"\"\n      }\n    },\n    {\n      \"column\": \"genres\",\n      \"properties\": {\n        \"dtype\": \"category\",\n        \"num_unique_values\": 951,\n        \"samples\": [\n          \"crime mystery romance thriller\",\n          \"action adventure comedy western\",\n          \"crime drama musical\"\n        ],\n        \"semantic_type\": \"\",\n        \"description\": \"\"\n      }\n    },\n    {\n      \"column\": \"tag\",\n      \"properties\": {\n        \"dtype\": \"category\",\n        \"num_unique_values\": 1008,\n        \"samples\": [\n          \"adorable black comedy eccentric introspection mental illness quirky\",\n          \"religion classic\",\n          \"notable nudity\"\n        ],\n        \"semantic_type\": \"\",\n        \"description\": \"\"\n      }\n    },\n    {\n      \"column\": \"combined_genre_tag\",\n      \"properties\": {\n        \"dtype\": \"category\",\n        \"num_unique_values\": 2247,\n        \"samples\": [\n          \"action animation drama fantasy sci fi anime end world epic mecha psychology\",\n          \"crime drama film noir thriller mafia\",\n          \"adventure comedy sci fi western\"\n        ],\n        \"semantic_type\": \"\",\n        \"description\": \"\"\n      }\n    }\n  ]\n}",
              "type": "dataframe",
              "variable_name": "movies"
            },
            "text/html": [
              "\n",
              "  <div id=\"df-a7c479a1-639c-45a5-bdea-dd56f3fd97b1\" class=\"colab-df-container\">\n",
              "    <div>\n",
              "<style scoped>\n",
              "    .dataframe tbody tr th:only-of-type {\n",
              "        vertical-align: middle;\n",
              "    }\n",
              "\n",
              "    .dataframe tbody tr th {\n",
              "        vertical-align: top;\n",
              "    }\n",
              "\n",
              "    .dataframe thead th {\n",
              "        text-align: right;\n",
              "    }\n",
              "</style>\n",
              "<table border=\"1\" class=\"dataframe\">\n",
              "  <thead>\n",
              "    <tr style=\"text-align: right;\">\n",
              "      <th></th>\n",
              "      <th>movieId</th>\n",
              "      <th>title</th>\n",
              "      <th>genres</th>\n",
              "      <th>tag</th>\n",
              "      <th>combined_genre_tag</th>\n",
              "    </tr>\n",
              "  </thead>\n",
              "  <tbody>\n",
              "    <tr>\n",
              "      <th>0</th>\n",
              "      <td>1</td>\n",
              "      <td>Toy Story (1995)</td>\n",
              "      <td>adventure animation child comedy fantasy</td>\n",
              "      <td>pixar pixar fun</td>\n",
              "      <td>adventure animation child comedy fantasy pixar...</td>\n",
              "    </tr>\n",
              "    <tr>\n",
              "      <th>1</th>\n",
              "      <td>2</td>\n",
              "      <td>Jumanji (1995)</td>\n",
              "      <td>adventure child fantasy</td>\n",
              "      <td>fantasy magic board game robin williams game</td>\n",
              "      <td>adventure child fantasy magic board game robin...</td>\n",
              "    </tr>\n",
              "    <tr>\n",
              "      <th>2</th>\n",
              "      <td>3</td>\n",
              "      <td>Grumpier Old Men (1995)</td>\n",
              "      <td>comedy romance</td>\n",
              "      <td>moldy old</td>\n",
              "      <td>comedy romance moldy old</td>\n",
              "    </tr>\n",
              "    <tr>\n",
              "      <th>3</th>\n",
              "      <td>4</td>\n",
              "      <td>Waiting to Exhale (1995)</td>\n",
              "      <td>comedy drama romance</td>\n",
              "      <td></td>\n",
              "      <td>comedy drama romance</td>\n",
              "    </tr>\n",
              "    <tr>\n",
              "      <th>4</th>\n",
              "      <td>5</td>\n",
              "      <td>Father of the Bride Part II (1995)</td>\n",
              "      <td>comedy</td>\n",
              "      <td>pregnancy remake</td>\n",
              "      <td>comedy pregnancy remake</td>\n",
              "    </tr>\n",
              "  </tbody>\n",
              "</table>\n",
              "</div>\n",
              "    <div class=\"colab-df-buttons\">\n",
              "\n",
              "  <div class=\"colab-df-container\">\n",
              "    <button class=\"colab-df-convert\" onclick=\"convertToInteractive('df-a7c479a1-639c-45a5-bdea-dd56f3fd97b1')\"\n",
              "            title=\"Convert this dataframe to an interactive table.\"\n",
              "            style=\"display:none;\">\n",
              "\n",
              "  <svg xmlns=\"http://www.w3.org/2000/svg\" height=\"24px\" viewBox=\"0 -960 960 960\">\n",
              "    <path d=\"M120-120v-720h720v720H120Zm60-500h600v-160H180v160Zm220 220h160v-160H400v160Zm0 220h160v-160H400v160ZM180-400h160v-160H180v160Zm440 0h160v-160H620v160ZM180-180h160v-160H180v160Zm440 0h160v-160H620v160Z\"/>\n",
              "  </svg>\n",
              "    </button>\n",
              "\n",
              "  <style>\n",
              "    .colab-df-container {\n",
              "      display:flex;\n",
              "      gap: 12px;\n",
              "    }\n",
              "\n",
              "    .colab-df-convert {\n",
              "      background-color: #E8F0FE;\n",
              "      border: none;\n",
              "      border-radius: 50%;\n",
              "      cursor: pointer;\n",
              "      display: none;\n",
              "      fill: #1967D2;\n",
              "      height: 32px;\n",
              "      padding: 0 0 0 0;\n",
              "      width: 32px;\n",
              "    }\n",
              "\n",
              "    .colab-df-convert:hover {\n",
              "      background-color: #E2EBFA;\n",
              "      box-shadow: 0px 1px 2px rgba(60, 64, 67, 0.3), 0px 1px 3px 1px rgba(60, 64, 67, 0.15);\n",
              "      fill: #174EA6;\n",
              "    }\n",
              "\n",
              "    .colab-df-buttons div {\n",
              "      margin-bottom: 4px;\n",
              "    }\n",
              "\n",
              "    [theme=dark] .colab-df-convert {\n",
              "      background-color: #3B4455;\n",
              "      fill: #D2E3FC;\n",
              "    }\n",
              "\n",
              "    [theme=dark] .colab-df-convert:hover {\n",
              "      background-color: #434B5C;\n",
              "      box-shadow: 0px 1px 3px 1px rgba(0, 0, 0, 0.15);\n",
              "      filter: drop-shadow(0px 1px 2px rgba(0, 0, 0, 0.3));\n",
              "      fill: #FFFFFF;\n",
              "    }\n",
              "  </style>\n",
              "\n",
              "    <script>\n",
              "      const buttonEl =\n",
              "        document.querySelector('#df-a7c479a1-639c-45a5-bdea-dd56f3fd97b1 button.colab-df-convert');\n",
              "      buttonEl.style.display =\n",
              "        google.colab.kernel.accessAllowed ? 'block' : 'none';\n",
              "\n",
              "      async function convertToInteractive(key) {\n",
              "        const element = document.querySelector('#df-a7c479a1-639c-45a5-bdea-dd56f3fd97b1');\n",
              "        const dataTable =\n",
              "          await google.colab.kernel.invokeFunction('convertToInteractive',\n",
              "                                                    [key], {});\n",
              "        if (!dataTable) return;\n",
              "\n",
              "        const docLinkHtml = 'Like what you see? Visit the ' +\n",
              "          '<a target=\"_blank\" href=https://colab.research.google.com/notebooks/data_table.ipynb>data table notebook</a>'\n",
              "          + ' to learn more about interactive tables.';\n",
              "        element.innerHTML = '';\n",
              "        dataTable['output_type'] = 'display_data';\n",
              "        await google.colab.output.renderOutput(dataTable, element);\n",
              "        const docLink = document.createElement('div');\n",
              "        docLink.innerHTML = docLinkHtml;\n",
              "        element.appendChild(docLink);\n",
              "      }\n",
              "    </script>\n",
              "  </div>\n",
              "\n",
              "\n",
              "    <div id=\"df-f3d248c5-5ead-49ad-a356-f8e1bdf46e01\">\n",
              "      <button class=\"colab-df-quickchart\" onclick=\"quickchart('df-f3d248c5-5ead-49ad-a356-f8e1bdf46e01')\"\n",
              "                title=\"Suggest charts\"\n",
              "                style=\"display:none;\">\n",
              "\n",
              "<svg xmlns=\"http://www.w3.org/2000/svg\" height=\"24px\"viewBox=\"0 0 24 24\"\n",
              "     width=\"24px\">\n",
              "    <g>\n",
              "        <path d=\"M19 3H5c-1.1 0-2 .9-2 2v14c0 1.1.9 2 2 2h14c1.1 0 2-.9 2-2V5c0-1.1-.9-2-2-2zM9 17H7v-7h2v7zm4 0h-2V7h2v10zm4 0h-2v-4h2v4z\"/>\n",
              "    </g>\n",
              "</svg>\n",
              "      </button>\n",
              "\n",
              "<style>\n",
              "  .colab-df-quickchart {\n",
              "      --bg-color: #E8F0FE;\n",
              "      --fill-color: #1967D2;\n",
              "      --hover-bg-color: #E2EBFA;\n",
              "      --hover-fill-color: #174EA6;\n",
              "      --disabled-fill-color: #AAA;\n",
              "      --disabled-bg-color: #DDD;\n",
              "  }\n",
              "\n",
              "  [theme=dark] .colab-df-quickchart {\n",
              "      --bg-color: #3B4455;\n",
              "      --fill-color: #D2E3FC;\n",
              "      --hover-bg-color: #434B5C;\n",
              "      --hover-fill-color: #FFFFFF;\n",
              "      --disabled-bg-color: #3B4455;\n",
              "      --disabled-fill-color: #666;\n",
              "  }\n",
              "\n",
              "  .colab-df-quickchart {\n",
              "    background-color: var(--bg-color);\n",
              "    border: none;\n",
              "    border-radius: 50%;\n",
              "    cursor: pointer;\n",
              "    display: none;\n",
              "    fill: var(--fill-color);\n",
              "    height: 32px;\n",
              "    padding: 0;\n",
              "    width: 32px;\n",
              "  }\n",
              "\n",
              "  .colab-df-quickchart:hover {\n",
              "    background-color: var(--hover-bg-color);\n",
              "    box-shadow: 0 1px 2px rgba(60, 64, 67, 0.3), 0 1px 3px 1px rgba(60, 64, 67, 0.15);\n",
              "    fill: var(--button-hover-fill-color);\n",
              "  }\n",
              "\n",
              "  .colab-df-quickchart-complete:disabled,\n",
              "  .colab-df-quickchart-complete:disabled:hover {\n",
              "    background-color: var(--disabled-bg-color);\n",
              "    fill: var(--disabled-fill-color);\n",
              "    box-shadow: none;\n",
              "  }\n",
              "\n",
              "  .colab-df-spinner {\n",
              "    border: 2px solid var(--fill-color);\n",
              "    border-color: transparent;\n",
              "    border-bottom-color: var(--fill-color);\n",
              "    animation:\n",
              "      spin 1s steps(1) infinite;\n",
              "  }\n",
              "\n",
              "  @keyframes spin {\n",
              "    0% {\n",
              "      border-color: transparent;\n",
              "      border-bottom-color: var(--fill-color);\n",
              "      border-left-color: var(--fill-color);\n",
              "    }\n",
              "    20% {\n",
              "      border-color: transparent;\n",
              "      border-left-color: var(--fill-color);\n",
              "      border-top-color: var(--fill-color);\n",
              "    }\n",
              "    30% {\n",
              "      border-color: transparent;\n",
              "      border-left-color: var(--fill-color);\n",
              "      border-top-color: var(--fill-color);\n",
              "      border-right-color: var(--fill-color);\n",
              "    }\n",
              "    40% {\n",
              "      border-color: transparent;\n",
              "      border-right-color: var(--fill-color);\n",
              "      border-top-color: var(--fill-color);\n",
              "    }\n",
              "    60% {\n",
              "      border-color: transparent;\n",
              "      border-right-color: var(--fill-color);\n",
              "    }\n",
              "    80% {\n",
              "      border-color: transparent;\n",
              "      border-right-color: var(--fill-color);\n",
              "      border-bottom-color: var(--fill-color);\n",
              "    }\n",
              "    90% {\n",
              "      border-color: transparent;\n",
              "      border-bottom-color: var(--fill-color);\n",
              "    }\n",
              "  }\n",
              "</style>\n",
              "\n",
              "      <script>\n",
              "        async function quickchart(key) {\n",
              "          const quickchartButtonEl =\n",
              "            document.querySelector('#' + key + ' button');\n",
              "          quickchartButtonEl.disabled = true;  // To prevent multiple clicks.\n",
              "          quickchartButtonEl.classList.add('colab-df-spinner');\n",
              "          try {\n",
              "            const charts = await google.colab.kernel.invokeFunction(\n",
              "                'suggestCharts', [key], {});\n",
              "          } catch (error) {\n",
              "            console.error('Error during call to suggestCharts:', error);\n",
              "          }\n",
              "          quickchartButtonEl.classList.remove('colab-df-spinner');\n",
              "          quickchartButtonEl.classList.add('colab-df-quickchart-complete');\n",
              "        }\n",
              "        (() => {\n",
              "          let quickchartButtonEl =\n",
              "            document.querySelector('#df-f3d248c5-5ead-49ad-a356-f8e1bdf46e01 button');\n",
              "          quickchartButtonEl.style.display =\n",
              "            google.colab.kernel.accessAllowed ? 'block' : 'none';\n",
              "        })();\n",
              "      </script>\n",
              "    </div>\n",
              "\n",
              "    </div>\n",
              "  </div>\n"
            ],
            "text/plain": [
              "   movieId                               title  \\\n",
              "0        1                    Toy Story (1995)   \n",
              "1        2                      Jumanji (1995)   \n",
              "2        3             Grumpier Old Men (1995)   \n",
              "3        4            Waiting to Exhale (1995)   \n",
              "4        5  Father of the Bride Part II (1995)   \n",
              "\n",
              "                                     genres  \\\n",
              "0  adventure animation child comedy fantasy   \n",
              "1                   adventure child fantasy   \n",
              "2                            comedy romance   \n",
              "3                      comedy drama romance   \n",
              "4                                    comedy   \n",
              "\n",
              "                                            tag  \\\n",
              "0                               pixar pixar fun   \n",
              "1  fantasy magic board game robin williams game   \n",
              "2                                     moldy old   \n",
              "3                                                 \n",
              "4                              pregnancy remake   \n",
              "\n",
              "                                  combined_genre_tag  \n",
              "0  adventure animation child comedy fantasy pixar...  \n",
              "1  adventure child fantasy magic board game robin...  \n",
              "2                           comedy romance moldy old  \n",
              "3                               comedy drama romance  \n",
              "4                            comedy pregnancy remake  "
            ]
          },
          "execution_count": 16,
          "metadata": {},
          "output_type": "execute_result"
        }
      ],
      "source": [
        "# Menggabungkan genre + tag menjadi satu fitur teks\n",
        "movies['combined_genre_tag'] = movies.apply(lambda row: combine_unique_words(row['genres'], row['tag']), axis=1)\n",
        "movies.head()"
      ]
    },
    {
      "cell_type": "markdown",
      "metadata": {
        "id": "o6cMi8h7onei"
      },
      "source": [
        "- Pada data tersebut terdapat beberapa data tag yang kosong dikarenakan tidak semua film memiliki tag, kemudian data kosong tersebut di isi dengan nan dan kemudian diganti dengan spasi agar tidak berpengaruh ke model dan hal tersebut tidak masalah dikarenakan sudah terdapat combined fitur"
      ]
    },
    {
      "cell_type": "markdown",
      "metadata": {
        "id": "ghtQyIwU6ymT"
      },
      "source": [
        "### TF-IDF Vectorizer"
      ]
    },
    {
      "cell_type": "markdown",
      "metadata": {
        "id": "ugJSaYrT-DmW"
      },
      "source": [
        "Mengubah teks (genre film) menjadi representasi numerik yang dapat dipahami oleh algoritma machine learning"
      ]
    },
    {
      "cell_type": "code",
      "execution_count": 17,
      "metadata": {
        "id": "2Bad8ems66BU"
      },
      "outputs": [],
      "source": [
        "# TF-IDF Vectorizer\n",
        "tfidf = TfidfVectorizer()\n",
        "tfidf_matrix = tfidf.fit_transform(movies['combined_genre_tag'])"
      ]
    },
    {
      "cell_type": "markdown",
      "metadata": {
        "id": "hntuKzLS7HrW"
      },
      "source": [
        "### Mapping judul ke indeks"
      ]
    },
    {
      "cell_type": "code",
      "execution_count": 18,
      "metadata": {
        "colab": {
          "base_uri": "https://localhost:8080/",
          "height": 0
        },
        "id": "B0WHCQD77InB",
        "outputId": "3c90507c-8d6c-4280-e0b8-b5e94c27e8e4"
      },
      "outputs": [
        {
          "data": {
            "text/html": [
              "<div>\n",
              "<style scoped>\n",
              "    .dataframe tbody tr th:only-of-type {\n",
              "        vertical-align: middle;\n",
              "    }\n",
              "\n",
              "    .dataframe tbody tr th {\n",
              "        vertical-align: top;\n",
              "    }\n",
              "\n",
              "    .dataframe thead th {\n",
              "        text-align: right;\n",
              "    }\n",
              "</style>\n",
              "<table border=\"1\" class=\"dataframe\">\n",
              "  <thead>\n",
              "    <tr style=\"text-align: right;\">\n",
              "      <th></th>\n",
              "      <th>0</th>\n",
              "    </tr>\n",
              "    <tr>\n",
              "      <th>title</th>\n",
              "      <th></th>\n",
              "    </tr>\n",
              "  </thead>\n",
              "  <tbody>\n",
              "    <tr>\n",
              "      <th>Toy Story (1995)</th>\n",
              "      <td>0</td>\n",
              "    </tr>\n",
              "    <tr>\n",
              "      <th>Jumanji (1995)</th>\n",
              "      <td>1</td>\n",
              "    </tr>\n",
              "    <tr>\n",
              "      <th>Grumpier Old Men (1995)</th>\n",
              "      <td>2</td>\n",
              "    </tr>\n",
              "    <tr>\n",
              "      <th>Waiting to Exhale (1995)</th>\n",
              "      <td>3</td>\n",
              "    </tr>\n",
              "    <tr>\n",
              "      <th>Father of the Bride Part II (1995)</th>\n",
              "      <td>4</td>\n",
              "    </tr>\n",
              "  </tbody>\n",
              "</table>\n",
              "</div><br><label><b>dtype:</b> int64</label>"
            ],
            "text/plain": [
              "title\n",
              "Toy Story (1995)                      0\n",
              "Jumanji (1995)                        1\n",
              "Grumpier Old Men (1995)               2\n",
              "Waiting to Exhale (1995)              3\n",
              "Father of the Bride Part II (1995)    4\n",
              "dtype: int64"
            ]
          },
          "execution_count": 18,
          "metadata": {},
          "output_type": "execute_result"
        }
      ],
      "source": [
        "# Membuat mapping judul ke indeks\n",
        "indices = pd.Series(movies.index, index=movies['title'])\n",
        "indices.head()"
      ]
    },
    {
      "cell_type": "markdown",
      "metadata": {
        "id": "vQN310oDYeoP"
      },
      "source": [
        "## **Model Development dengan Content Based Filtering**"
      ]
    },
    {
      "cell_type": "markdown",
      "metadata": {
        "id": "K09ZO7l8ghzo"
      },
      "source": [
        "- Model development pada Model content-based filtering menggunakan representasi data dari TF-IDF Vectorizer dan evaluasi kesamaan antar item dilakukan menggunakan Cosine Similarity.\""
      ]
    },
    {
      "cell_type": "markdown",
      "metadata": {
        "id": "ZuVoxfsa9kub"
      },
      "source": [
        "#### Cosine similarity"
      ]
    },
    {
      "cell_type": "code",
      "execution_count": 19,
      "metadata": {
        "colab": {
          "base_uri": "https://localhost:8080/"
        },
        "id": "8PwRn2VQ97Rw",
        "outputId": "c1a20401-9ba9-44a5-9f3f-8b6a6b54b0bc"
      },
      "outputs": [
        {
          "data": {
            "text/plain": [
              "array([[1.        , 0.12390756, 0.01970914, ..., 0.        , 0.2203516 ,\n",
              "        0.13989933],\n",
              "       [0.12390756, 1.        , 0.        , ..., 0.        , 0.        ,\n",
              "        0.        ],\n",
              "       [0.01970914, 0.        , 1.        , ..., 0.        , 0.        ,\n",
              "        0.14088088],\n",
              "       ...,\n",
              "       [0.        , 0.        , 0.        , ..., 1.        , 0.        ,\n",
              "        0.        ],\n",
              "       [0.2203516 , 0.        , 0.        , ..., 0.        , 1.        ,\n",
              "        0.        ],\n",
              "       [0.13989933, 0.        , 0.14088088, ..., 0.        , 0.        ,\n",
              "        1.        ]])"
            ]
          },
          "execution_count": 19,
          "metadata": {},
          "output_type": "execute_result"
        }
      ],
      "source": [
        "# Cosine similarity berdasarkan TF-IDF\n",
        "cosine_sim = cosine_similarity(tfidf_matrix, tfidf_matrix)\n",
        "cosine_sim"
      ]
    },
    {
      "cell_type": "markdown",
      "metadata": {
        "id": "ABhg0yvUx4Uo"
      },
      "source": [
        "#### Mendapatkan Rekomendasi"
      ]
    },
    {
      "cell_type": "markdown",
      "metadata": {
        "id": "8BjHlLlhhQIi"
      },
      "source": [
        "- Membuat fungsi untuk Content-based Filtering yang akan melakukan rekomendasi film"
      ]
    },
    {
      "cell_type": "code",
      "execution_count": 219,
      "metadata": {
        "id": "V1cH2qE4eEAs"
      },
      "outputs": [],
      "source": [
        "# Fungsi rekomendasi\n",
        "def recommend(title, top_n):\n",
        "    idx = indices[title]\n",
        "\n",
        "    # informasi film\n",
        "    base_movie_info = movies.iloc[idx][['title', 'genres', 'combined_genre_tag']]\n",
        "    print(f\"--- Informasi Film: ---\\n\")\n",
        "    print(base_movie_info.to_string())\n",
        "    print(\"\\n------------------------------\")\n",
        "\n",
        "    sim_scores = list(enumerate(cosine_sim[idx]))\n",
        "\n",
        "    # Dapatkan hasil rekomendasi (top_n)\n",
        "    recommended_scores = sorted(sim_scores, key=lambda x: x[1], reverse=True)[1:top_n+1]\n",
        "    recommended_indices = [i[0] for i in recommended_scores]\n",
        "    recommended_df = movies.iloc[recommended_indices][['title', 'genres', 'tag', 'combined_genre_tag']]\n",
        "    recommended_titles = recommended_df['title'].tolist()\n",
        "\n",
        "    # Tampilkan hasil\n",
        "    print(f\"\\n🎬 Rekomendasi untuk \\\"{title}\\\":\\n\")\n",
        "    print(recommended_df[['title', 'genres', 'combined_genre_tag']].to_string(index=False))"
      ]
    },
    {
      "cell_type": "markdown",
      "metadata": {
        "id": "XtjRV1rgheP2"
      },
      "source": [
        "- Melakukan percobaan rekomendasi berdasarkan film \"God Loves Caviar (2012)\" dimana akan merekomendasikan sebanyak 15 film sesuai dengan nilai top_n=15"
      ]
    },
    {
      "cell_type": "code",
      "execution_count": 221,
      "metadata": {
        "colab": {
          "base_uri": "https://localhost:8080/"
        },
        "id": "jr8kVLeReTOh",
        "outputId": "f54885c6-adc7-4e40-a9e3-cf340e631d83"
      },
      "outputs": [
        {
          "name": "stdout",
          "output_type": "stream",
          "text": [
            "--- Informasi Film: ---\n",
            "\n",
            "title                 God Loves Caviar (2012)\n",
            "genres                            [adventure]\n",
            "combined_genre_tag                  adventure\n",
            "\n",
            "------------------------------\n",
            "\n",
            "🎬 Rekomendasi untuk \"God Loves Caviar (2012)\":\n",
            "\n",
            "                                     title             genres combined_genre_tag\n",
            "      Beyond the Poseidon Adventure (1979)        [adventure]          adventure\n",
            "                 White Water Summer (1987)        [adventure]          adventure\n",
            "                          Iron Will (1994)        [adventure]          adventure\n",
            "              Mountains of the Moon (1990)        [adventure]          adventure\n",
            "                         White Fang (1991)        [adventure]          adventure\n",
            "             Wind and the Lion, The (1975)        [adventure]          adventure\n",
            "Christopher Columbus: The Discovery (1992)        [adventure]          adventure\n",
            "                    Treasure Island (2012)        [adventure]          adventure\n",
            "                   God Loves Caviar (2012)        [adventure]          adventure\n",
            "                          Neon Bull (2015)        [adventure]          adventure\n",
            "                           Lamerica (1994) [adventure, drama]    adventure drama\n",
            "      Robin Hood: Prince of Thieves (1991) [adventure, drama]    adventure drama\n",
            "           Old Man and the Sea, The (1958) [adventure, drama]    adventure drama\n",
            "                          Walkabout (1971) [adventure, drama]    adventure drama\n",
            "                          Edge, The (1997) [adventure, drama]    adventure drama\n"
          ]
        }
      ],
      "source": [
        "# Jalankan fungsi rekomendasi dengan top_n = 15\n",
        "recommend(\"God Loves Caviar (2012)\", top_n=15)"
      ]
    },
    {
      "cell_type": "markdown",
      "metadata": {
        "id": "Z-lSRJT5YqxM"
      },
      "source": [
        "## **Model Development dengan Collaborative Filtering**"
      ]
    },
    {
      "cell_type": "markdown",
      "metadata": {
        "id": "zXM8OAaBzNZM"
      },
      "source": [
        "Pada sistem rekomendasi Collaborative Filtering menggunakan Neural Collaborative Filtering (NCF)\n"
      ]
    },
    {
      "cell_type": "markdown",
      "metadata": {
        "id": "ddPPgJIYym6V"
      },
      "source": [
        "### Data Preparation"
      ]
    },
    {
      "cell_type": "markdown",
      "metadata": {
        "id": "x9gseOKk2Ro1"
      },
      "source": [
        "#### Encoding"
      ]
    },
    {
      "cell_type": "markdown",
      "metadata": {
        "id": "NMDpI8B71nlt"
      },
      "source": [
        "- Mengubah userId dan movieId yang bersifat kategori non-urut menjadi bentuk numeric encoding (0, 1, 2, …) agar bisa digunakan dalam model machine learning (khususnya layer Embedding)."
      ]
    },
    {
      "cell_type": "code",
      "execution_count": 222,
      "metadata": {
        "id": "Ds7_xf2Bwb4H"
      },
      "outputs": [],
      "source": [
        "# Encode userId dan movieId\n",
        "user_ids = ratings['userId'].unique().tolist()\n",
        "movie_ids = ratings['movieId'].unique().tolist()\n",
        "user2user_encoded = {x: i for i, x in enumerate(user_ids)}\n",
        "movie2movie_encoded = {x: i for i, x in enumerate(movie_ids)}\n",
        "user_encoded2user = {i: x for x, i in user2user_encoded.items()}\n",
        "movie_encoded2movie = {i: x for x, i in movie2movie_encoded.items()}\n",
        "\n",
        "ratings['user'] = ratings['userId'].map(user2user_encoded)\n",
        "ratings['movie'] = ratings['movieId'].map(movie2movie_encoded)\n",
        "n_users = len(user2user_encoded)\n",
        "n_movies = len(movie2movie_encoded)"
      ]
    },
    {
      "cell_type": "markdown",
      "metadata": {
        "id": "OtTyvs8vzB4z"
      },
      "source": [
        "#### Membagi Data untuk Training dan Validasi"
      ]
    },
    {
      "cell_type": "code",
      "execution_count": 223,
      "metadata": {
        "id": "47jRwGLtwff1"
      },
      "outputs": [],
      "source": [
        "# Split data\n",
        "x = ratings[['user', 'movie']].values\n",
        "y = ratings['rating'].values\n",
        "x_train, x_val, y_train, y_val = train_test_split(x, y, test_size=0.2, random_state=42)"
      ]
    },
    {
      "cell_type": "markdown",
      "metadata": {
        "id": "lGtssTJ0zb3w"
      },
      "source": [
        "- Pembagian data dilakukan, 80/20 = 80% data train dan 20% data test"
      ]
    },
    {
      "cell_type": "markdown",
      "metadata": {
        "id": "wdBt4oknyrB_"
      },
      "source": [
        "### Pembuatan Model"
      ]
    },
    {
      "cell_type": "code",
      "execution_count": 224,
      "metadata": {
        "id": "LKd4lCPQwiAH"
      },
      "outputs": [],
      "source": [
        "# Build model dengan regularisasi\n",
        "EMBEDDING_SIZE = 50\n",
        "user_input = keras.Input(shape=(1,))\n",
        "movie_input = keras.Input(shape=(1,))\n",
        "\n",
        "user_embedding = layers.Embedding(n_users, EMBEDDING_SIZE)(user_input)\n",
        "movie_embedding = layers.Embedding(n_movies, EMBEDDING_SIZE)(movie_input)\n",
        "\n",
        "user_vec = layers.Flatten()(user_embedding)\n",
        "movie_vec = layers.Flatten()(movie_embedding)\n",
        "\n",
        "concat = layers.Concatenate()([user_vec, movie_vec])\n",
        "dense = layers.Dense(128, activation='relu')(concat)\n",
        "dense = layers.Dropout(0.3)(dense)\n",
        "dense = layers.Dense(64, activation='relu')(dense)\n",
        "dense = layers.Dropout(0.3)(dense)\n",
        "out = layers.Dense(1)(dense)\n",
        "\n",
        "model = keras.Model([user_input, movie_input], out)\n",
        "model.compile(loss='mse', optimizer='adam')"
      ]
    },
    {
      "cell_type": "markdown",
      "metadata": {
        "id": "Sejx4Ik10yBL"
      },
      "source": [
        "Model ini dirancang untuk memprediksi rating pengguna terhadap film menggunakan pendekatan Neural Collaborative Filtering, yaitu:\n",
        "- Mencari pola interaksi non-linear antara pengguna dan film\n",
        "- Meningkatkan akurasi rekomendasi dibanding metode kolaboratif klasik\n",
        "\n",
        "Arsitektur\n",
        "- Embedding Layer untuk merepresentasikan pengguna dan film ke dalam vektor berdimensi 50.\n",
        "- Concatenate Layer menggabungkan vektor pengguna dan film.\n",
        "- Dense Layers bertingkat (128 → 64 unit) untuk memodelkan interaksi non-linear.\n",
        "- Dropout (0.3) diterapkan setelah setiap layer Dense untuk mencegah overfitting.\n",
        "\n"
      ]
    },
    {
      "cell_type": "markdown",
      "metadata": {
        "id": "yIBCPjnDywpV"
      },
      "source": [
        "### Train Model"
      ]
    },
    {
      "cell_type": "markdown",
      "metadata": {
        "id": "uOstsnVDz3rV"
      },
      "source": [
        "- Penggunakan callback EarlyStopping dan ReduceLROnPlateau untuk mencegah overfitting"
      ]
    },
    {
      "cell_type": "code",
      "execution_count": 225,
      "metadata": {
        "id": "EG9emI7oraxJ"
      },
      "outputs": [],
      "source": [
        "# Menggunakan Callbacks\n",
        "callbacks = [\n",
        "    EarlyStopping(monitor='val_loss', patience=2, restore_best_weights=True, verbose=1),\n",
        "    ReduceLROnPlateau(monitor='val_loss', factor=0.5, patience=1, verbose=1)\n",
        "]\n"
      ]
    },
    {
      "cell_type": "code",
      "execution_count": 226,
      "metadata": {
        "colab": {
          "base_uri": "https://localhost:8080/"
        },
        "id": "SYOaekt9rgEd",
        "outputId": "4edb0a76-b424-4dc6-adc1-6f87ac5efc3a"
      },
      "outputs": [
        {
          "name": "stdout",
          "output_type": "stream",
          "text": [
            "Epoch 1/15\n",
            "\u001b[1m316/316\u001b[0m \u001b[32m━━━━━━━━━━━━━━━━━━━━\u001b[0m\u001b[37m\u001b[0m \u001b[1m5s\u001b[0m 9ms/step - loss: 4.2840 - val_loss: 0.8038 - learning_rate: 0.0010\n",
            "Epoch 2/15\n",
            "\u001b[1m316/316\u001b[0m \u001b[32m━━━━━━━━━━━━━━━━━━━━\u001b[0m\u001b[37m\u001b[0m \u001b[1m3s\u001b[0m 4ms/step - loss: 0.9251 - val_loss: 0.7973 - learning_rate: 0.0010\n",
            "Epoch 3/15\n",
            "\u001b[1m316/316\u001b[0m \u001b[32m━━━━━━━━━━━━━━━━━━━━\u001b[0m\u001b[37m\u001b[0m \u001b[1m2s\u001b[0m 3ms/step - loss: 0.8674 - val_loss: 0.7766 - learning_rate: 0.0010\n",
            "Epoch 4/15\n",
            "\u001b[1m316/316\u001b[0m \u001b[32m━━━━━━━━━━━━━━━━━━━━\u001b[0m\u001b[37m\u001b[0m \u001b[1m1s\u001b[0m 3ms/step - loss: 0.8263 - val_loss: 0.7754 - learning_rate: 0.0010\n",
            "Epoch 5/15\n",
            "\u001b[1m316/316\u001b[0m \u001b[32m━━━━━━━━━━━━━━━━━━━━\u001b[0m\u001b[37m\u001b[0m \u001b[1m1s\u001b[0m 3ms/step - loss: 0.8037 - val_loss: 0.7737 - learning_rate: 0.0010\n",
            "Epoch 6/15\n",
            "\u001b[1m299/316\u001b[0m \u001b[32m━━━━━━━━━━━━━━━━━━\u001b[0m\u001b[37m━━\u001b[0m \u001b[1m0s\u001b[0m 2ms/step - loss: 0.7659\n",
            "Epoch 6: ReduceLROnPlateau reducing learning rate to 0.0005000000237487257.\n",
            "\u001b[1m316/316\u001b[0m \u001b[32m━━━━━━━━━━━━━━━━━━━━\u001b[0m\u001b[37m\u001b[0m \u001b[1m1s\u001b[0m 3ms/step - loss: 0.7667 - val_loss: 0.7742 - learning_rate: 0.0010\n",
            "Epoch 7/15\n",
            "\u001b[1m316/316\u001b[0m \u001b[32m━━━━━━━━━━━━━━━━━━━━\u001b[0m\u001b[37m\u001b[0m \u001b[1m1s\u001b[0m 3ms/step - loss: 0.7271 - val_loss: 0.7676 - learning_rate: 5.0000e-04\n",
            "Epoch 8/15\n",
            "\u001b[1m315/316\u001b[0m \u001b[32m━━━━━━━━━━━━━━━━━━━\u001b[0m\u001b[37m━\u001b[0m \u001b[1m0s\u001b[0m 3ms/step - loss: 0.7014\n",
            "Epoch 8: ReduceLROnPlateau reducing learning rate to 0.0002500000118743628.\n",
            "\u001b[1m316/316\u001b[0m \u001b[32m━━━━━━━━━━━━━━━━━━━━\u001b[0m\u001b[37m\u001b[0m \u001b[1m2s\u001b[0m 5ms/step - loss: 0.7015 - val_loss: 0.7728 - learning_rate: 5.0000e-04\n",
            "Epoch 9/15\n",
            "\u001b[1m313/316\u001b[0m \u001b[32m━━━━━━━━━━━━━━━━━━━\u001b[0m\u001b[37m━\u001b[0m \u001b[1m0s\u001b[0m 4ms/step - loss: 0.6727\n",
            "Epoch 9: ReduceLROnPlateau reducing learning rate to 0.0001250000059371814.\n",
            "\u001b[1m316/316\u001b[0m \u001b[32m━━━━━━━━━━━━━━━━━━━━\u001b[0m\u001b[37m\u001b[0m \u001b[1m2s\u001b[0m 5ms/step - loss: 0.6728 - val_loss: 0.7732 - learning_rate: 2.5000e-04\n",
            "Epoch 9: early stopping\n",
            "Restoring model weights from the end of the best epoch: 7.\n"
          ]
        }
      ],
      "source": [
        "# Train Model\n",
        "history = model.fit(\n",
        "    [x_train[:, 0], x_train[:, 1]], y_train,\n",
        "    epochs=15,\n",
        "    batch_size=256,\n",
        "    verbose=1,\n",
        "    validation_data=([x_val[:, 0], x_val[:, 1]], y_val),\n",
        "    callbacks=callbacks\n",
        ")\n"
      ]
    },
    {
      "cell_type": "markdown",
      "metadata": {
        "id": "yevfmPYP1ipf"
      },
      "source": [
        "- Model Neural Collaborative Filtering (NCF) berhasil dilatih selama maksimal 15 epoch\n",
        "\n",
        "- Menggunakan batch_size = 256 untuk efisiensi pemrosesan mini-batch.\n",
        "\n",
        "- Proses training dilengkapi dengan callback (EarlyStopping, ReduceLROnPlateau) yang membantu:\n",
        "\n",
        "- Menghentikan training lebih awal saat val_loss tidak membaik\n",
        "\n",
        "- Menurunkan learning rate secara adaptif untuk optimasi yang lebih stabil\n",
        "\n",
        "Dengan menggunakan callbacks maka model berhenti pada epoch ke 10 dan mendapatkan model terbaik pada epoch ke 8 dan hasil akhir menunjukkan konvergensi model dengan nilai val_loss yang optimal, dan RMSE < 1.0, yang berarti model cukup baik dalam memprediksi rating pengguna."
      ]
    },
    {
      "cell_type": "code",
      "execution_count": 227,
      "metadata": {
        "colab": {
          "base_uri": "https://localhost:8080/",
          "height": 410
        },
        "id": "dI_jqK1AAZ8C",
        "outputId": "5e7308d7-f759-4569-bf0c-1ea64d16973c"
      },
      "outputs": [
        {
          "data": {
            "image/png": "[encoded data removed]",
            "text/plain": [
              "<Figure size 800x400 with 1 Axes>"
            ]
          },
          "metadata": {},
          "output_type": "display_data"
        }
      ],
      "source": [
        "# Visualisasi Hasil Pelatihan\n",
        "plt.figure(figsize=(8, 4))\n",
        "plt.plot(history.history['loss'], label='Train Loss')\n",
        "plt.plot(history.history['val_loss'], label='Val Loss')\n",
        "plt.title('Training vs Validation Loss')\n",
        "plt.xlabel('Epoch')\n",
        "plt.ylabel('Loss')\n",
        "plt.legend()\n",
        "plt.grid(True)\n",
        "plt.show()"
      ]
    },
    {
      "cell_type": "markdown",
      "metadata": {
        "id": "mg98_JBk_E1y"
      },
      "source": [
        "### Mendapatkan Rekomendasi Film"
      ]
    },
    {
      "cell_type": "code",
      "execution_count": 241,
      "metadata": {
        "id": "p_z_CNMNDGt_"
      },
      "outputs": [],
      "source": [
        "def recommend_top_n(user_id, model, ratings, movies,\n",
        "                    user_map, movie_map, reverse_movie_map, top_n):\n",
        "    if user_id not in user_map:\n",
        "        print(\"User ID tidak ditemukan.\")\n",
        "        return pd.DataFrame()\n",
        "\n",
        "    uid = user_map[user_id]\n",
        "    all_movies = np.array(list(movie_map.values()))\n",
        "\n",
        "    watched = ratings[ratings['userId'] == user_id]['movieId'].tolist()\n",
        "    watched_encoded = [movie_map[m] for m in watched if m in movie_map]\n",
        "\n",
        "    unwatched = np.setdiff1d(all_movies, watched_encoded)\n",
        "    user_input = np.full_like(unwatched, uid)\n",
        "\n",
        "    preds = model.predict([user_input, unwatched], verbose=0).flatten()\n",
        "    top_idx = preds.argsort()[-top_n:][::-1]\n",
        "    top_movie_ids = [reverse_movie_map[i] for i in unwatched[top_idx]]\n",
        "\n",
        "    results = movies[movies['movieId'].isin(top_movie_ids)].copy()\n",
        "    results['predicted_rating'] = preds[top_idx]\n",
        "\n",
        "    return results[['movieId', 'title', 'genres', 'predicted_rating']]\n"
      ]
    },
    {
      "cell_type": "code",
      "execution_count": 247,
      "metadata": {
        "colab": {
          "base_uri": "https://localhost:8080/",
          "height": 555
        },
        "id": "w0w1eIyeDH2d",
        "outputId": "b5ee6138-8b55-4943-8bfe-2e9a3efca8bb"
      },
      "outputs": [
        {
          "name": "stdout",
          "output_type": "stream",
          "text": [
            "Hasil Rekomendasi Movie dengan Collaborative Filtering: \n",
            "\n"
          ]
        },
        {
          "data": {
            "application/vnd.google.colaboratory.intrinsic+json": {
              "summary": "{\n  \"name\": \")\",\n  \"rows\": 15,\n  \"fields\": [\n    {\n      \"column\": \"movieId\",\n      \"properties\": {\n        \"dtype\": \"number\",\n        \"std\": 49721,\n        \"min\": 3302,\n        \"max\": 171495,\n        \"num_unique_values\": 15,\n        \"samples\": [\n          89759,\n          108078,\n          3302\n        ],\n        \"semantic_type\": \"\",\n        \"description\": \"\"\n      }\n    },\n    {\n      \"column\": \"title\",\n      \"properties\": {\n        \"dtype\": \"string\",\n        \"num_unique_values\": 15,\n        \"samples\": [\n          \"Separation, A (Jodaeiye Nader az Simin) (2011)\",\n          \"Chinese Puzzle (Casse-t\\u00eate chinois) (2013)\",\n          \"Beautiful People (1999)\"\n        ],\n        \"semantic_type\": \"\",\n        \"description\": \"\"\n      }\n    },\n    {\n      \"column\": \"genres\",\n      \"properties\": {\n        \"dtype\": \"object\",\n        \"semantic_type\": \"\",\n        \"description\": \"\"\n      }\n    },\n    {\n      \"column\": \"predicted_rating\",\n      \"properties\": {\n        \"dtype\": \"float32\",\n        \"num_unique_values\": 15,\n        \"samples\": [\n          5.415859222412109,\n          5.411683082580566,\n          5.5189642906188965\n        ],\n        \"semantic_type\": \"\",\n        \"description\": \"\"\n      }\n    }\n  ]\n}",
              "type": "dataframe"
            },
            "text/html": [
              "\n",
              "  <div id=\"df-678dae79-94c8-4a4a-81df-3fcfbe6ef84c\" class=\"colab-df-container\">\n",
              "    <div>\n",
              "<style scoped>\n",
              "    .dataframe tbody tr th:only-of-type {\n",
              "        vertical-align: middle;\n",
              "    }\n",
              "\n",
              "    .dataframe tbody tr th {\n",
              "        vertical-align: top;\n",
              "    }\n",
              "\n",
              "    .dataframe thead th {\n",
              "        text-align: right;\n",
              "    }\n",
              "</style>\n",
              "<table border=\"1\" class=\"dataframe\">\n",
              "  <thead>\n",
              "    <tr style=\"text-align: right;\">\n",
              "      <th></th>\n",
              "      <th>movieId</th>\n",
              "      <th>title</th>\n",
              "      <th>genres</th>\n",
              "      <th>predicted_rating</th>\n",
              "    </tr>\n",
              "  </thead>\n",
              "  <tbody>\n",
              "    <tr>\n",
              "      <th>2479</th>\n",
              "      <td>3302</td>\n",
              "      <td>Beautiful People (1999)</td>\n",
              "      <td>[comedy]</td>\n",
              "      <td>5.518964</td>\n",
              "    </tr>\n",
              "    <tr>\n",
              "      <th>4643</th>\n",
              "      <td>6939</td>\n",
              "      <td>Gloomy Sunday (Ein Lied von Liebe und Tod) (1999)</td>\n",
              "      <td>[drama, romance]</td>\n",
              "      <td>5.489996</td>\n",
              "    </tr>\n",
              "    <tr>\n",
              "      <th>5287</th>\n",
              "      <td>8738</td>\n",
              "      <td>Woman Is a Woman, A (femme est une femme, Une)...</td>\n",
              "      <td>[comedy, drama, musical, romance]</td>\n",
              "      <td>5.461101</td>\n",
              "    </tr>\n",
              "    <tr>\n",
              "      <th>5489</th>\n",
              "      <td>26326</td>\n",
              "      <td>Holy Mountain, The (Montaña sagrada, La) (1973)</td>\n",
              "      <td>[drama]</td>\n",
              "      <td>5.453122</td>\n",
              "    </tr>\n",
              "    <tr>\n",
              "      <th>5733</th>\n",
              "      <td>30745</td>\n",
              "      <td>Gozu (Gokudô kyôfu dai-gekijô: Gozu) (2003)</td>\n",
              "      <td>[comedy, crime, drama, horror, mystery]</td>\n",
              "      <td>5.450364</td>\n",
              "    </tr>\n",
              "    <tr>\n",
              "      <th>5942</th>\n",
              "      <td>34312</td>\n",
              "      <td>Calcium Kid, The (2004)</td>\n",
              "      <td>[comedy]</td>\n",
              "      <td>5.441988</td>\n",
              "    </tr>\n",
              "    <tr>\n",
              "      <th>6495</th>\n",
              "      <td>53280</td>\n",
              "      <td>Breed, The (2006)</td>\n",
              "      <td>[horror, thriller]</td>\n",
              "      <td>5.439448</td>\n",
              "    </tr>\n",
              "    <tr>\n",
              "      <th>6499</th>\n",
              "      <td>53355</td>\n",
              "      <td>Sun Alley (Sonnenallee) (1999)</td>\n",
              "      <td>[comedy, romance]</td>\n",
              "      <td>5.432043</td>\n",
              "    </tr>\n",
              "    <tr>\n",
              "      <th>7404</th>\n",
              "      <td>80124</td>\n",
              "      <td>Sisters (Syostry) (2001)</td>\n",
              "      <td>[action, crime, drama]</td>\n",
              "      <td>5.417325</td>\n",
              "    </tr>\n",
              "    <tr>\n",
              "      <th>7695</th>\n",
              "      <td>89759</td>\n",
              "      <td>Separation, A (Jodaeiye Nader az Simin) (2011)</td>\n",
              "      <td>[drama]</td>\n",
              "      <td>5.415859</td>\n",
              "    </tr>\n",
              "    <tr>\n",
              "      <th>8019</th>\n",
              "      <td>97866</td>\n",
              "      <td>Imposter, The (2012)</td>\n",
              "      <td>[documentary]</td>\n",
              "      <td>5.415592</td>\n",
              "    </tr>\n",
              "    <tr>\n",
              "      <th>8343</th>\n",
              "      <td>108078</td>\n",
              "      <td>Chinese Puzzle (Casse-tête chinois) (2013)</td>\n",
              "      <td>[comedy, romance]</td>\n",
              "      <td>5.411683</td>\n",
              "    </tr>\n",
              "    <tr>\n",
              "      <th>8397</th>\n",
              "      <td>110130</td>\n",
              "      <td>Nut Job, The (2014)</td>\n",
              "      <td>[adventure, animation, child, comedy]</td>\n",
              "      <td>5.410707</td>\n",
              "    </tr>\n",
              "    <tr>\n",
              "      <th>8675</th>\n",
              "      <td>122092</td>\n",
              "      <td>Guy X (2005)</td>\n",
              "      <td>[comedy, war]</td>\n",
              "      <td>5.402943</td>\n",
              "    </tr>\n",
              "    <tr>\n",
              "      <th>9514</th>\n",
              "      <td>171495</td>\n",
              "      <td>Cosmos</td>\n",
              "      <td>[genre, listed]</td>\n",
              "      <td>5.401546</td>\n",
              "    </tr>\n",
              "  </tbody>\n",
              "</table>\n",
              "</div>\n",
              "    <div class=\"colab-df-buttons\">\n",
              "\n",
              "  <div class=\"colab-df-container\">\n",
              "    <button class=\"colab-df-convert\" onclick=\"convertToInteractive('df-678dae79-94c8-4a4a-81df-3fcfbe6ef84c')\"\n",
              "            title=\"Convert this dataframe to an interactive table.\"\n",
              "            style=\"display:none;\">\n",
              "\n",
              "  <svg xmlns=\"http://www.w3.org/2000/svg\" height=\"24px\" viewBox=\"0 -960 960 960\">\n",
              "    <path d=\"M120-120v-720h720v720H120Zm60-500h600v-160H180v160Zm220 220h160v-160H400v160Zm0 220h160v-160H400v160ZM180-400h160v-160H180v160Zm440 0h160v-160H620v160ZM180-180h160v-160H180v160Zm440 0h160v-160H620v160Z\"/>\n",
              "  </svg>\n",
              "    </button>\n",
              "\n",
              "  <style>\n",
              "    .colab-df-container {\n",
              "      display:flex;\n",
              "      gap: 12px;\n",
              "    }\n",
              "\n",
              "    .colab-df-convert {\n",
              "      background-color: #E8F0FE;\n",
              "      border: none;\n",
              "      border-radius: 50%;\n",
              "      cursor: pointer;\n",
              "      display: none;\n",
              "      fill: #1967D2;\n",
              "      height: 32px;\n",
              "      padding: 0 0 0 0;\n",
              "      width: 32px;\n",
              "    }\n",
              "\n",
              "    .colab-df-convert:hover {\n",
              "      background-color: #E2EBFA;\n",
              "      box-shadow: 0px 1px 2px rgba(60, 64, 67, 0.3), 0px 1px 3px 1px rgba(60, 64, 67, 0.15);\n",
              "      fill: #174EA6;\n",
              "    }\n",
              "\n",
              "    .colab-df-buttons div {\n",
              "      margin-bottom: 4px;\n",
              "    }\n",
              "\n",
              "    [theme=dark] .colab-df-convert {\n",
              "      background-color: #3B4455;\n",
              "      fill: #D2E3FC;\n",
              "    }\n",
              "\n",
              "    [theme=dark] .colab-df-convert:hover {\n",
              "      background-color: #434B5C;\n",
              "      box-shadow: 0px 1px 3px 1px rgba(0, 0, 0, 0.15);\n",
              "      filter: drop-shadow(0px 1px 2px rgba(0, 0, 0, 0.3));\n",
              "      fill: #FFFFFF;\n",
              "    }\n",
              "  </style>\n",
              "\n",
              "    <script>\n",
              "      const buttonEl =\n",
              "        document.querySelector('#df-678dae79-94c8-4a4a-81df-3fcfbe6ef84c button.colab-df-convert');\n",
              "      buttonEl.style.display =\n",
              "        google.colab.kernel.accessAllowed ? 'block' : 'none';\n",
              "\n",
              "      async function convertToInteractive(key) {\n",
              "        const element = document.querySelector('#df-678dae79-94c8-4a4a-81df-3fcfbe6ef84c');\n",
              "        const dataTable =\n",
              "          await google.colab.kernel.invokeFunction('convertToInteractive',\n",
              "                                                    [key], {});\n",
              "        if (!dataTable) return;\n",
              "\n",
              "        const docLinkHtml = 'Like what you see? Visit the ' +\n",
              "          '<a target=\"_blank\" href=https://colab.research.google.com/notebooks/data_table.ipynb>data table notebook</a>'\n",
              "          + ' to learn more about interactive tables.';\n",
              "        element.innerHTML = '';\n",
              "        dataTable['output_type'] = 'display_data';\n",
              "        await google.colab.output.renderOutput(dataTable, element);\n",
              "        const docLink = document.createElement('div');\n",
              "        docLink.innerHTML = docLinkHtml;\n",
              "        element.appendChild(docLink);\n",
              "      }\n",
              "    </script>\n",
              "  </div>\n",
              "\n",
              "\n",
              "    <div id=\"df-a4c42949-cfea-4a7f-8385-9321f279ff05\">\n",
              "      <button class=\"colab-df-quickchart\" onclick=\"quickchart('df-a4c42949-cfea-4a7f-8385-9321f279ff05')\"\n",
              "                title=\"Suggest charts\"\n",
              "                style=\"display:none;\">\n",
              "\n",
              "<svg xmlns=\"http://www.w3.org/2000/svg\" height=\"24px\"viewBox=\"0 0 24 24\"\n",
              "     width=\"24px\">\n",
              "    <g>\n",
              "        <path d=\"M19 3H5c-1.1 0-2 .9-2 2v14c0 1.1.9 2 2 2h14c1.1 0 2-.9 2-2V5c0-1.1-.9-2-2-2zM9 17H7v-7h2v7zm4 0h-2V7h2v10zm4 0h-2v-4h2v4z\"/>\n",
              "    </g>\n",
              "</svg>\n",
              "      </button>\n",
              "\n",
              "<style>\n",
              "  .colab-df-quickchart {\n",
              "      --bg-color: #E8F0FE;\n",
              "      --fill-color: #1967D2;\n",
              "      --hover-bg-color: #E2EBFA;\n",
              "      --hover-fill-color: #174EA6;\n",
              "      --disabled-fill-color: #AAA;\n",
              "      --disabled-bg-color: #DDD;\n",
              "  }\n",
              "\n",
              "  [theme=dark] .colab-df-quickchart {\n",
              "      --bg-color: #3B4455;\n",
              "      --fill-color: #D2E3FC;\n",
              "      --hover-bg-color: #434B5C;\n",
              "      --hover-fill-color: #FFFFFF;\n",
              "      --disabled-bg-color: #3B4455;\n",
              "      --disabled-fill-color: #666;\n",
              "  }\n",
              "\n",
              "  .colab-df-quickchart {\n",
              "    background-color: var(--bg-color);\n",
              "    border: none;\n",
              "    border-radius: 50%;\n",
              "    cursor: pointer;\n",
              "    display: none;\n",
              "    fill: var(--fill-color);\n",
              "    height: 32px;\n",
              "    padding: 0;\n",
              "    width: 32px;\n",
              "  }\n",
              "\n",
              "  .colab-df-quickchart:hover {\n",
              "    background-color: var(--hover-bg-color);\n",
              "    box-shadow: 0 1px 2px rgba(60, 64, 67, 0.3), 0 1px 3px 1px rgba(60, 64, 67, 0.15);\n",
              "    fill: var(--button-hover-fill-color);\n",
              "  }\n",
              "\n",
              "  .colab-df-quickchart-complete:disabled,\n",
              "  .colab-df-quickchart-complete:disabled:hover {\n",
              "    background-color: var(--disabled-bg-color);\n",
              "    fill: var(--disabled-fill-color);\n",
              "    box-shadow: none;\n",
              "  }\n",
              "\n",
              "  .colab-df-spinner {\n",
              "    border: 2px solid var(--fill-color);\n",
              "    border-color: transparent;\n",
              "    border-bottom-color: var(--fill-color);\n",
              "    animation:\n",
              "      spin 1s steps(1) infinite;\n",
              "  }\n",
              "\n",
              "  @keyframes spin {\n",
              "    0% {\n",
              "      border-color: transparent;\n",
              "      border-bottom-color: var(--fill-color);\n",
              "      border-left-color: var(--fill-color);\n",
              "    }\n",
              "    20% {\n",
              "      border-color: transparent;\n",
              "      border-left-color: var(--fill-color);\n",
              "      border-top-color: var(--fill-color);\n",
              "    }\n",
              "    30% {\n",
              "      border-color: transparent;\n",
              "      border-left-color: var(--fill-color);\n",
              "      border-top-color: var(--fill-color);\n",
              "      border-right-color: var(--fill-color);\n",
              "    }\n",
              "    40% {\n",
              "      border-color: transparent;\n",
              "      border-right-color: var(--fill-color);\n",
              "      border-top-color: var(--fill-color);\n",
              "    }\n",
              "    60% {\n",
              "      border-color: transparent;\n",
              "      border-right-color: var(--fill-color);\n",
              "    }\n",
              "    80% {\n",
              "      border-color: transparent;\n",
              "      border-right-color: var(--fill-color);\n",
              "      border-bottom-color: var(--fill-color);\n",
              "    }\n",
              "    90% {\n",
              "      border-color: transparent;\n",
              "      border-bottom-color: var(--fill-color);\n",
              "    }\n",
              "  }\n",
              "</style>\n",
              "\n",
              "      <script>\n",
              "        async function quickchart(key) {\n",
              "          const quickchartButtonEl =\n",
              "            document.querySelector('#' + key + ' button');\n",
              "          quickchartButtonEl.disabled = true;  // To prevent multiple clicks.\n",
              "          quickchartButtonEl.classList.add('colab-df-spinner');\n",
              "          try {\n",
              "            const charts = await google.colab.kernel.invokeFunction(\n",
              "                'suggestCharts', [key], {});\n",
              "          } catch (error) {\n",
              "            console.error('Error during call to suggestCharts:', error);\n",
              "          }\n",
              "          quickchartButtonEl.classList.remove('colab-df-spinner');\n",
              "          quickchartButtonEl.classList.add('colab-df-quickchart-complete');\n",
              "        }\n",
              "        (() => {\n",
              "          let quickchartButtonEl =\n",
              "            document.querySelector('#df-a4c42949-cfea-4a7f-8385-9321f279ff05 button');\n",
              "          quickchartButtonEl.style.display =\n",
              "            google.colab.kernel.accessAllowed ? 'block' : 'none';\n",
              "        })();\n",
              "      </script>\n",
              "    </div>\n",
              "\n",
              "    </div>\n",
              "  </div>\n"
            ],
            "text/plain": [
              "      movieId                                              title  \\\n",
              "2479     3302                            Beautiful People (1999)   \n",
              "4643     6939  Gloomy Sunday (Ein Lied von Liebe und Tod) (1999)   \n",
              "5287     8738  Woman Is a Woman, A (femme est une femme, Une)...   \n",
              "5489    26326    Holy Mountain, The (Montaña sagrada, La) (1973)   \n",
              "5733    30745        Gozu (Gokudô kyôfu dai-gekijô: Gozu) (2003)   \n",
              "5942    34312                            Calcium Kid, The (2004)   \n",
              "6495    53280                                  Breed, The (2006)   \n",
              "6499    53355                     Sun Alley (Sonnenallee) (1999)   \n",
              "7404    80124                           Sisters (Syostry) (2001)   \n",
              "7695    89759     Separation, A (Jodaeiye Nader az Simin) (2011)   \n",
              "8019    97866                               Imposter, The (2012)   \n",
              "8343   108078         Chinese Puzzle (Casse-tête chinois) (2013)   \n",
              "8397   110130                                Nut Job, The (2014)   \n",
              "8675   122092                                       Guy X (2005)   \n",
              "9514   171495                                             Cosmos   \n",
              "\n",
              "                                       genres  predicted_rating  \n",
              "2479                                 [comedy]          5.518964  \n",
              "4643                         [drama, romance]          5.489996  \n",
              "5287        [comedy, drama, musical, romance]          5.461101  \n",
              "5489                                  [drama]          5.453122  \n",
              "5733  [comedy, crime, drama, horror, mystery]          5.450364  \n",
              "5942                                 [comedy]          5.441988  \n",
              "6495                       [horror, thriller]          5.439448  \n",
              "6499                        [comedy, romance]          5.432043  \n",
              "7404                   [action, crime, drama]          5.417325  \n",
              "7695                                  [drama]          5.415859  \n",
              "8019                            [documentary]          5.415592  \n",
              "8343                        [comedy, romance]          5.411683  \n",
              "8397    [adventure, animation, child, comedy]          5.410707  \n",
              "8675                            [comedy, war]          5.402943  \n",
              "9514                          [genre, listed]          5.401546  "
            ]
          },
          "execution_count": 247,
          "metadata": {},
          "output_type": "execute_result"
        }
      ],
      "source": [
        "print(\"Hasil Rekomendasi Movie dengan Collaborative Filtering: \\n\")\n",
        "recommend_top_n(\n",
        "    user_id=1,\n",
        "    model=model,\n",
        "    ratings=ratings,\n",
        "    movies=movies,\n",
        "    user_map=user2user_encoded,\n",
        "    movie_map=movie2movie_encoded,\n",
        "    reverse_movie_map=movie_encoded2movie,\n",
        "    top_n=15\n",
        ")\n"
      ]
    },
    {
      "cell_type": "markdown",
      "metadata": {
        "id": "7hqhUmdarbrB"
      },
      "source": [
        "Sistem berhasil merekomendasikan 15 daftar film kepada pengguna tertentu, diurutkan berdasarkan prediksi rating tertinggi oleh model Collaborative Filtering. Film \"Beautiful People (1999)\" diprediksi menjadi film yang paling disukai pengguna di antara rekomendasi yang diberikan, kemudian diikuti oleh \"Gloomy Sunday (Ein Lied von Liebe und Tod) (1999)\" dan seterusnya hingga Cosmos.\n",
        "\n",
        "Hal ini menunjukkan bahwa model Collaborative Filtering telah berhasil mengidentifikasi film-film yang relevan dan berpotensi disukai oleh pengguna, berdasarkan pola preferensi yang telah dipelajari dari data rating sebelumnya."
      ]
    },
    {
      "cell_type": "markdown",
      "metadata": {
        "id": "EyxCNMeeYw0l"
      },
      "source": [
        "## **Evaluasi**"
      ]
    },
    {
      "cell_type": "markdown",
      "metadata": {
        "id": "P9B6UyaMfTiV"
      },
      "source": [
        "### Evaluasi pada Collaborative Filtering"
      ]
    },
    {
      "cell_type": "code",
      "execution_count": 248,
      "metadata": {
        "colab": {
          "base_uri": "https://localhost:8080/"
        },
        "id": "efMmC5g2wnYi",
        "outputId": "c2919ea0-6cc3-4588-9733-db97fcaeceb1"
      },
      "outputs": [
        {
          "name": "stdout",
          "output_type": "stream",
          "text": [
            "\u001b[1m631/631\u001b[0m \u001b[32m━━━━━━━━━━━━━━━━━━━━\u001b[0m\u001b[37m\u001b[0m \u001b[1m1s\u001b[0m 2ms/step\n",
            "\n",
            "Neural Collaborative Filtering RMSE: 0.8761\n"
          ]
        }
      ],
      "source": [
        "# Evaluate model\n",
        "preds = model.predict([x_val[:, 0], x_val[:, 1]])\n",
        "mse = np.mean((preds.flatten() - y_val) ** 2)\n",
        "rmse = np.sqrt(mse)\n",
        "print(f\"\\nNeural Collaborative Filtering RMSE: {rmse:.4f}\")"
      ]
    },
    {
      "cell_type": "markdown",
      "metadata": {
        "id": "J1CdbVkd7udN"
      },
      "source": [
        "- Mendapatkan nilai RMSE: 0.8754, nilai RMSE di bawah 1.0 menandakan model cukup baik dalam memprediksi preferensi pengguna."
      ]
    },
    {
      "cell_type": "markdown",
      "metadata": {
        "id": "RhAc28Tx3RXM"
      },
      "source": [
        "#### visualisasi setelah evaluate model"
      ]
    },
    {
      "cell_type": "code",
      "execution_count": 249,
      "metadata": {
        "colab": {
          "base_uri": "https://localhost:8080/",
          "height": 0
        },
        "id": "2BGlb6ECBLGm",
        "outputId": "2ed2f4fc-da82-4139-ba89-c2388831e658"
      },
      "outputs": [
        {
          "data": {
            "image/png": "[encoded data removed]",
            "text/plain": [
              "<Figure size 800x400 with 1 Axes>"
            ]
          },
          "metadata": {},
          "output_type": "display_data"
        },
        {
          "data": {
            "image/png": "[encoded data removed]",
            "text/plain": [
              "<Figure size 800x400 with 1 Axes>"
            ]
          },
          "metadata": {},
          "output_type": "display_data"
        }
      ],
      "source": [
        "# Memvisualisasikan distribusi rating aktual vs prediksi\n",
        "plt.figure(figsize=(8, 4))\n",
        "sns.histplot(y_val, bins=20, kde=True, color='skyblue', label='Actual Ratings')\n",
        "sns.histplot(preds.flatten(), bins=20, kde=True, color='lightcoral', label='Predicted Ratings')\n",
        "plt.title('Distribution of Actual vs Predicted Ratings')\n",
        "plt.xlabel('Rating')\n",
        "plt.ylabel('Frequency')\n",
        "plt.legend()\n",
        "plt.grid(True)\n",
        "plt.show()\n",
        "\n",
        "# Memvisualisasikan error (selisih) antara rating aktual dan prediksi\n",
        "errors = y_val - preds.flatten()\n",
        "plt.figure(figsize=(8, 4))\n",
        "sns.histplot(errors, bins=30, kde=True, color='salmon')\n",
        "plt.title('Distribution of Prediction Errors (Actual - Predicted)')\n",
        "plt.xlabel('Error')\n",
        "plt.ylabel('Frequency')\n",
        "plt.grid(True)\n",
        "plt.show()"
      ]
    },
    {
      "cell_type": "markdown",
      "metadata": {
        "id": "ISIcdaTi7FuX"
      },
      "source": [
        "1. Visualisasi Distribusi Rating Aktual vs Prediksi (Plot Atas)\n",
        "  - Warna biru: Distribusi rating aktual dari pengguna.\n",
        "  - Warna merah muda: Distribusi rating yang diprediksi oleh model.\n",
        "  - Kedua distribusi relatif mirip, menunjukkan bahwa model berhasil meniru pola rating aktual dengan cukup baik.\n",
        "  - Perbedaan mencolok terlihat pada rating integer tertentu seperti 3.0, 4.0, dan 5.0, yang sering dipakai oleh pengguna asli, sedangkan model membuat prediksi dalam angka desimal kontinu.\n",
        "\n",
        "\n",
        "2. Visualisasi Distribusi Error Prediksi (Plot Bawah)\n",
        "  - Ini menunjukkan distribusi dari selisih rating aktual dan prediksi (Actual - Predicted).\n",
        "  - Bentuk kurva menyerupai distribusi normal (Gaussian) dengan puncak di sekitar 0, yang berarti:\n",
        "  - Mayoritas prediksi cukup akurat (selisih kecil antara nilai aktual dan prediksi).\n",
        "  - Tidak banyak error ekstrem (outlier sedikit)."
      ]
    },
    {
      "cell_type": "markdown",
      "metadata": {
        "id": "X1jCt5eqfatD"
      },
      "source": [
        "### Evaluasi pada Content-Based Filtering"
      ]
    },
    {
      "cell_type": "markdown",
      "metadata": {
        "id": "vzQEedri6i8s"
      },
      "source": [
        "Evaluasi pada content-based filtering, menggunakan metrik evaluasi:\n",
        "- Precision@K untuk mengukur proporsi item yang relevan di antara top-K rekomendasi\n",
        "- Recall@K untuk mengukur seberapa banyak item relevan yang berhasil ditemukan dari semua item relevan yang ada.\n",
        "- F1-Score@K merupakan kombinasi dari precision dan recall."
      ]
    },
    {
      "cell_type": "code",
      "execution_count": 250,
      "metadata": {
        "id": "De07bdp9OdMi"
      },
      "outputs": [],
      "source": [
        "# --- Fungsi-fungsi Evaluasi ---\n",
        "def precision_at_k(recommended, relevant, k):\n",
        "    recommended_k = recommended[:k]\n",
        "    relevant_set = set(relevant)\n",
        "    hit_count = sum(1 for item in recommended_k if item in relevant_set)\n",
        "    return hit_count / k\n",
        "\n",
        "def recall_at_k(recommended, relevant, k):\n",
        "    recommended_k = recommended[:k]\n",
        "    relevant_set = set(relevant)\n",
        "    hit_count = sum(1 for item in recommended_k if item in relevant_set)\n",
        "    return hit_count / len(relevant_set) if relevant_set else 0\n",
        "\n",
        "def f1_score_at_k(precision, recall):\n",
        "    return 2 * (precision * recall) / (precision + recall) if (precision + recall) > 0 else 0"
      ]
    },
    {
      "cell_type": "code",
      "execution_count": 251,
      "metadata": {
        "colab": {
          "base_uri": "https://localhost:8080/"
        },
        "id": "xw_OhV4RQ71a",
        "outputId": "64a892e1-bb41-48fc-b55f-af582a24aafc"
      },
      "outputs": [
        {
          "name": "stdout",
          "output_type": "stream",
          "text": [
            "--- Informasi Film: ---\n",
            "\n",
            "title                 God Loves Caviar (2012)\n",
            "genres                            [adventure]\n",
            "combined_genre_tag                  adventure\n",
            "\n",
            "------------------------------\n",
            "\n",
            "🎬 Rekomendasi untuk \"God Loves Caviar (2012)\":\n",
            "\n",
            "                                     title             genres combined_genre_tag\n",
            "      Beyond the Poseidon Adventure (1979)        [adventure]          adventure\n",
            "                 White Water Summer (1987)        [adventure]          adventure\n",
            "                          Iron Will (1994)        [adventure]          adventure\n",
            "              Mountains of the Moon (1990)        [adventure]          adventure\n",
            "                         White Fang (1991)        [adventure]          adventure\n",
            "             Wind and the Lion, The (1975)        [adventure]          adventure\n",
            "Christopher Columbus: The Discovery (1992)        [adventure]          adventure\n",
            "                    Treasure Island (2012)        [adventure]          adventure\n",
            "                   God Loves Caviar (2012)        [adventure]          adventure\n",
            "                          Neon Bull (2015)        [adventure]          adventure\n",
            "                           Lamerica (1994) [adventure, drama]    adventure drama\n",
            "      Robin Hood: Prince of Thieves (1991) [adventure, drama]    adventure drama\n",
            "           Old Man and the Sea, The (1958) [adventure, drama]    adventure drama\n",
            "                          Walkabout (1971) [adventure, drama]    adventure drama\n",
            "                          Edge, The (1997) [adventure, drama]    adventure drama\n",
            "\n",
            "📊 Evaluasi Content-Based Filtering @Top-15 (Relevance Threshold=0.8)\n",
            "Precision@15: 0.9333\n",
            "Recall@15:    0.1892\n",
            "F1-Score@15:  0.3146\n"
          ]
        }
      ],
      "source": [
        "# Fungsi rekomendasi dan evaluasi\n",
        "def recommend_and_evaluate(title, top_n, relevance_threshold):\n",
        "    idx = indices[title]\n",
        "\n",
        "    # informasi film\n",
        "    base_movie_info = movies.iloc[idx][['title', 'genres', 'combined_genre_tag']]\n",
        "    print(f\"--- Informasi Film: ---\\n\")\n",
        "    print(base_movie_info.to_string())\n",
        "    print(\"\\n------------------------------\")\n",
        "\n",
        "    sim_scores = list(enumerate(cosine_sim[idx]))\n",
        "\n",
        "    # Mendapatkan hasil rekomendasi (top_n)\n",
        "    recommended_scores = sorted(sim_scores, key=lambda x: x[1], reverse=True)[1:top_n+1]\n",
        "    recommended_indices = [i[0] for i in recommended_scores]\n",
        "    recommended_df = movies.iloc[recommended_indices][['title', 'genres', 'tag', 'combined_genre_tag']]\n",
        "    recommended_titles = recommended_df['title'].tolist()\n",
        "\n",
        "    # Mendapatkan film yang dianggap relevan (skor sim > threshold)\n",
        "    # Memastikan index 0 (film itu sendiri) tidak termasuk\n",
        "    relevant_indices_potential = [i[0] for i in sim_scores if i[1] >= relevance_threshold and i[0] != idx]\n",
        "    relevant_titles = movies.iloc[relevant_indices_potential]['title'].tolist()\n",
        "\n",
        "    # Menghitung metrik evaluasi\n",
        "    precision = precision_at_k(recommended_titles, relevant_titles, top_n)\n",
        "    recall = recall_at_k(recommended_titles, relevant_titles, top_n)\n",
        "    f1 = f1_score_at_k(precision, recall)\n",
        "\n",
        "    # Menampilkan hasil\n",
        "    print(f\"\\n🎬 Rekomendasi untuk \\\"{title}\\\":\\n\")\n",
        "    print(recommended_df[['title', 'genres', 'combined_genre_tag']].to_string(index=False))\n",
        "\n",
        "    print(f\"\\n📊 Evaluasi Content-Based Filtering @Top-{top_n} (Relevance Threshold={relevance_threshold})\")\n",
        "    print(f\"Precision@{top_n}: {precision:.4f}\")\n",
        "    print(f\"Recall@{top_n}:    {recall:.4f}\")\n",
        "    print(f\"F1-Score@{top_n}:  {f1:.4f}\")\n",
        "\n",
        "# Menjalankan fungsi rekomendasi dan evaluasi\n",
        "recommend_and_evaluate(\"God Loves Caviar (2012)\", top_n=15, relevance_threshold=0.8)"
      ]
    },
    {
      "cell_type": "markdown",
      "metadata": {
        "id": "tQ995MRofgs7"
      },
      "source": [
        "### Perbandingan kedua algoritma"
      ]
    },
    {
      "cell_type": "markdown",
      "metadata": {
        "id": "vv9BFSge5SMT"
      },
      "source": [
        "1. Neural Collaborative Filtering (NCF)\n",
        "  - Root Mean Square Error (RMSE): 0.8754\n",
        "  - Ini menunjukkan kualitas prediksi rating oleh model NCF.\n",
        "  - RMSE di bawah 1.0 menandakan model cukup baik dalam memprediksi preferensi pengguna.\n",
        "\n",
        "2. Content-Based Filtering\n",
        "  - Menggunakan kemiripan fitur (genre + tag) antar film.\n",
        "  - Model Content-Based Filtering memiliki nilai\n",
        "      - Precision@15: 0.9333\n",
        "      - Recall@15:    0.1892\n",
        "      - F1-Score@15:  0.3146\n",
        "  \n",
        "    Nilai-nilai ini menunjukkan seberapa efektif model ini dalam merekomendasikan item yang relevan dalam daftar top-K berdasarkan kemiripan konten.\n",
        "\n",
        "- Kesimpulan\n",
        "  - Model NCF telah berhasil dilatih dengan baik, memiliki error prediksi rendah.\n",
        "  - Content-Based Filtering memberikan rekomendasi yang konsisten secara semantik berdasarkan kemiripan konten.\n",
        "  - Kombinasi keduanya dapat memberikan sistem rekomendasi yang kuat dan fleksibel (Hybrid Recommender System)."
      ]
    }
  ],
  "metadata": {
    "accelerator": "GPU",
    "colab": {
      "collapsed_sections": [
        "VIhg2YZwREp0",
        "tuERsJSj_wEU",
        "cOY53RqQXIpy",
        "0y-yORbHe8CP",
        "ASV8kTneoJ0o",
        "60sM_pDRoI2u",
        "sBZE1WGXuFc8",
        "al62NCHiuLFX",
        "i-BMQ5NtxMGs",
        "M2xPnhqrohvY",
        "vQN310oDYeoP",
        "EdHAeN4CxfUt",
        "6yL2v6AOxjeS",
        "8zIlg4DphL95",
        "ABhg0yvUx4Uo",
        "x9gseOKk2Ro1",
        "OtTyvs8vzB4z",
        "wdBt4oknyrB_"
      ],
      "gpuType": "T4",
      "provenance": []
    },
    "kernelspec": {
      "display_name": "Python 3",
      "name": "python3"
    },
    "language_info": {
      "name": "python"
    }
  },
  "nbformat": 4,
  "nbformat_minor": 0
}
